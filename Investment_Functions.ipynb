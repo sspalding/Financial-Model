{
 "cells": [
  {
   "cell_type": "markdown",
   "metadata": {},
   "source": [
    "# Individual Stock Data Collection and Wrangling"
   ]
  },
  {
   "cell_type": "code",
   "execution_count": 1,
   "metadata": {},
   "outputs": [],
   "source": [
    "# libraries\n",
    "import pandas as pd\n",
    "import yfinance as yf\n",
    "from datetime import date\n",
    "import numpy as np\n",
    "import plotly.express as px\n",
    "import plotly.graph_objects as go\n",
    "import functools"
   ]
  },
  {
   "cell_type": "markdown",
   "metadata": {},
   "source": [
    "goal: make functions for get  \n",
    "- 1st of the month cost per share for a given time period\n",
    "- quarterly dividend amt per share for a given time period\n",
    "- calculate the average dividend \n",
    "- calculate the average monthly cost per share"
   ]
  },
  {
   "cell_type": "code",
   "execution_count": 2,
   "metadata": {},
   "outputs": [],
   "source": [
    "portfolio = pd.DataFrame({\n",
    "    'ticker':['FXAIX','FSSNX','FSPSX','VDADX','FXNAX','VGAVX','FSRNX'],\n",
    "    'quantity':[16.81,18.957,11.455,76.756,12.256,197.257,18.878],\n",
    "    'category':['stock','stock','stock','bond','bond','bond','real estate'],\n",
    "    'future_percents':[30,25,25,5,5,5,5]\n",
    "})\n",
    "# monthly amount to invest total\n",
    "monthly_investments = 30\n",
    "# Number of years plan to invest\n",
    "years_to_invest = 30"
   ]
  },
  {
   "cell_type": "code",
   "execution_count": 3,
   "metadata": {},
   "outputs": [],
   "source": [
    "# calculate the year the individual started investing\n",
    "today = date.today()\n",
    "month = today.month\n",
    "year = today.year"
   ]
  },
  {
   "cell_type": "code",
   "execution_count": 4,
   "metadata": {},
   "outputs": [],
   "source": [
    "# Function to connect to yahoo finance and cache the information we get\n",
    "# create a cache to store the data we get from yf\n",
    "@functools.cache\n",
    "def connectYahooFinance (Ticker):\n",
    "    # get the data for the specific ticker\n",
    "    ticker_data = yf.Ticker(Ticker)\n",
    "    # create a dataframe of the history of the ticker\n",
    "    ticker_data = pd.DataFrame(ticker_data.history(period = 'max'))\n",
    "    # correct the index for the dataframe\n",
    "    ticker_data.reset_index(inplace = True)\n",
    "    return ticker_data"
   ]
  },
  {
   "cell_type": "code",
   "execution_count": 5,
   "metadata": {},
   "outputs": [],
   "source": [
    "# function to get historical monthly cost per share\n",
    "def MonthlyCost (Ticker):\n",
    "    # first call the connect to yahoofinance function\n",
    "    ticker_data = connectYahooFinance(Ticker)\n",
    "    # filter data to only include info from the first of the month\n",
    "    return ticker_data[ticker_data['Date'].dt.is_month_start]"
   ]
  },
  {
   "cell_type": "code",
   "execution_count": 6,
   "metadata": {},
   "outputs": [],
   "source": [
    "# function to get historical dividend amt per share\n",
    "def quarterlyDividends (Ticker):\n",
    "    # first call the conncet to yahoofinance function\n",
    "    ticker_data = connectYahooFinance(Ticker)\n",
    "    # filter data to only include info when dividends were distributed\n",
    "    return ticker_data[ticker_data['Dividends']!=0]"
   ]
  },
  {
   "cell_type": "code",
   "execution_count": 7,
   "metadata": {},
   "outputs": [],
   "source": [
    "# function to calcuate the average dividends for each ticker\n",
    "def CalculateAvgDividend(Ticker, Years_to_invest):\n",
    "    # get the historical dividends\n",
    "    dividends = pd.DataFrame(quarterlyDividends(Ticker))\n",
    "    # find the first year the stock existed\n",
    "    first_year = dividends.iloc[0]\n",
    "    first_year = first_year['Date'].year\n",
    "    # determine which came first, the timespan the user plans to invest or the first year the fund existed, then determine the date of that \n",
    "    years_invest = year-min(year-first_year, Years_to_invest)\n",
    "    years_invest = f'{years_invest}-01-01'\n",
    "    # get all of the dividends since that date\n",
    "    dividends = dividends[(dividends['Date']> years_invest)]\n",
    "    # find the average of those dividends\n",
    "    average_dividend = dividends['Dividends'].mean()\n",
    "    return average_dividend"
   ]
  },
  {
   "cell_type": "code",
   "execution_count": 8,
   "metadata": {},
   "outputs": [],
   "source": [
    "# function to calc avg cost per share for each ticker\n",
    "def CalculateAvgCostPerShare(Ticker, Years_to_invest, Monthly_cost):\n",
    "    cost_per_share = pd.DataFrame(Monthly_cost)\n",
    "    # find the first year the stock existed\n",
    "    first_year = cost_per_share.iloc[0]\n",
    "    first_year = first_year['Date'].year\n",
    "    # determine which came first, the timespan the user plans to invest or the first year the fund existed, then determine the date of that \n",
    "    years_invest = year-min(year-first_year, Years_to_invest)\n",
    "    years_invest = f'{years_invest}-01-01'\n",
    "    # find all of the cost per shares that have occured since that date\n",
    "    cost_per_share = cost_per_share[(cost_per_share['Date']>years_invest)]\n",
    "    # take the average of those values\n",
    "    average_cost = cost_per_share['Open'].mean()\n",
    "    return average_cost"
   ]
  },
  {
   "cell_type": "code",
   "execution_count": 9,
   "metadata": {},
   "outputs": [],
   "source": [
    "# how much is your current initial investment worth\n",
    "def calcCurrentWorth (Portfolio,Ticker,Monthly_cost):\n",
    "    # get the data from the portfolio of the specific ticker\n",
    "    quantity = Portfolio.loc[Portfolio['ticker'] == Ticker]['quantity']\n",
    "    # get the data of the start of each month for the data\n",
    "    cost_per_share = pd.DataFrame(Monthly_cost)\n",
    "    # find the most recent value\n",
    "    cost_per_share = cost_per_share.iloc[-1:]\n",
    "    # multiply that most recent value by the quantity the user owns\n",
    "    current_value = cost_per_share['Open'].values[0]*quantity.values[0]\n",
    "    return current_value"
   ]
  },
  {
   "cell_type": "code",
   "execution_count": 10,
   "metadata": {},
   "outputs": [],
   "source": [
    "# calculate the average annual interest rate of the individual stocks\n",
    "def interestRate(Ticker,Years_to_invest,Monthly_cost):\n",
    "    # get a dataframe of the monthly costs for the specific ticker\n",
    "    cost_per_share = pd.DataFrame(Monthly_cost)\n",
    "    # make an empty list to hold our growth rates\n",
    "    GR = []\n",
    "    # find one year after the first year that the stock existed\n",
    "    first_year = cost_per_share.iloc[0]\n",
    "    first_year = first_year['Date'].year+1\n",
    "    # determine which happended first, the first year the stock existed or the number of years the user plans to invest\n",
    "    Years_to_invest = min(year-first_year, Years_to_invest)\n",
    "    # itereate through the number of year\n",
    "    for i in range (0,Years_to_invest):\n",
    "        # find the date of one year\n",
    "        old_date =f'{year-i}-12-01'\n",
    "        old_value = cost_per_share.loc[cost_per_share['Date']==old_date]\n",
    "        m=12\n",
    "        # determine if that dataframe from the first date is empty \n",
    "        while old_value['Open'].empty:\n",
    "            # iterate through the months of the year till you find one with data\n",
    "            m = m-1\n",
    "            old_date = f'{year-i}-{m}-01'\n",
    "            old_value = cost_per_share.loc[cost_per_share['Date']==old_date]\n",
    "        # get the open value of that month        \n",
    "        old_value = old_value['Open'].values[0]\n",
    "        # find a year that is one year older than our previous year\n",
    "        j = i+1\n",
    "        older_date = f'{year-j}-m-01'\n",
    "        older_value = cost_per_share.loc[cost_per_share['Date']==older_date]\n",
    "        # determine if that dataframe is empty\n",
    "        while older_value['Open'].empty:\n",
    "            # iterate through the months of year till you find one with data\n",
    "            older_date = f'{year-j}-{m}-01'\n",
    "            older_value = cost_per_share.loc[cost_per_share['Date']==older_date]\n",
    "            m = m-1\n",
    "        # get the open value of that month\n",
    "        older_value = older_value['Open'].values[0]\n",
    "        # calculate the growth rate of that year\n",
    "        GR_i = (old_value/older_value)-1\n",
    "        # add the growth rate to our list\n",
    "        GR.append(GR_i)\n",
    "    # add all of the growth rates\n",
    "    sum_GR = sum(GR)\n",
    "    # divded that sum by the number of years\n",
    "    AAGR = sum_GR/Years_to_invest\n",
    "    return AAGR"
   ]
  },
  {
   "cell_type": "code",
   "execution_count": 11,
   "metadata": {},
   "outputs": [],
   "source": [
    "# calculate current portfolio worth \n",
    "def currentPortfolioWorth(Portfolio):\n",
    "    # make an empty list for each of our tickers current values to go into\n",
    "    current_value = []\n",
    "    # iterate through all of the tickers in our portfolio\n",
    "    for ticker in Portfolio['ticker']:\n",
    "        # find the monthly cost of that ticker\n",
    "        monthly_cost = MonthlyCost(ticker)\n",
    "        # calculate the current worth of that ticker\n",
    "        ticker_value = calcCurrentWorth(Portfolio,ticker,monthly_cost)\n",
    "        # add that current worth to our list\n",
    "        current_value.append(ticker_value)\n",
    "    # sum all of the values in our list\n",
    "    portfolio_current_value = sum(current_value)\n",
    "    return portfolio_current_value"
   ]
  },
  {
   "cell_type": "code",
   "execution_count": 12,
   "metadata": {},
   "outputs": [],
   "source": [
    "# make a function to predicted the growth of the portfolio\n",
    "def totalInvestmentPrediction (Portfolio,Monthly_investments,Years_to_invest):\n",
    "    # make a dataframe to hold the results for each of the tickers\n",
    "    results = pd.DataFrame(columns = ['Month', 'Amount','Ticker'])\n",
    "    # itereate through each of the tickers and their respective percents in the portfolio\n",
    "    for ticker, percent in zip(Portfolio['ticker'], Portfolio['future_percents']):\n",
    "        monthly_cost = MonthlyCost(ticker)                                  # find the monthly cost for each ticker\n",
    "        percents = percent/100                                              # divided the percents by 100 to get them on the correct scale\n",
    "        principal = calcCurrentWorth(Portfolio,ticker,monthly_cost)         # find the current worth of the stock\n",
    "        interest = interestRate(ticker,Years_to_invest,monthly_cost)        # find the growth rate of the stock\n",
    "        compounding_period = 12                                             # assign how often the interest will compound, 12 = monthly\n",
    "        months = Years_to_invest*compounding_period                         # assign how lond the user plans to invest for\n",
    "        monthly_contribution = percents*Monthly_investments                 # assign how much the user plans to invest in this stock per month\n",
    "        dividends = CalculateAvgDividend(ticker,Years_to_invest)                            # calculate the average dividends returned\n",
    "        dividends_compounding = 3                                           # the dividends compound quarterly\n",
    "        avg_cost_per_share = CalculateAvgCostPerShare(ticker,Years_to_invest,monthly_cost)  # calculate the average cost per share of the stock\n",
    "        # add the pricipal as the month one investment\n",
    "        results =  results.append({'Month': 1, 'Amount': principal, 'Ticker':ticker}, ignore_index = True)\n",
    "        # iterate through the months the user plans to invest for\n",
    "        for i in range(2,months+1):\n",
    "            # find the worth of the previous month\n",
    "            amt = results.iloc[-1:]\n",
    "            amt = amt['Amount'].values[0]\n",
    "            # determine if it is a month that dividends are reinvested or not\n",
    "            if (i%dividends_compounding)==0:\n",
    "                    total = amt+(amt*(interest/12))+monthly_contribution+((amt/avg_cost_per_share)*dividends)\n",
    "                    results =  results.append({'Month': i, 'Amount': total, 'Ticker':ticker}, ignore_index = True)\n",
    "            else:\n",
    "                    total = amt+(amt*(interest/12))+monthly_contribution\n",
    "                    results =  results.append({'Month': i, 'Amount': total, 'Ticker':ticker}, ignore_index = True)\n",
    "    return results"
   ]
  },
  {
   "cell_type": "code",
   "execution_count": 13,
   "metadata": {},
   "outputs": [
    {
     "data": {
      "text/html": [
       "<div>\n",
       "<style scoped>\n",
       "    .dataframe tbody tr th:only-of-type {\n",
       "        vertical-align: middle;\n",
       "    }\n",
       "\n",
       "    .dataframe tbody tr th {\n",
       "        vertical-align: top;\n",
       "    }\n",
       "\n",
       "    .dataframe thead th {\n",
       "        text-align: right;\n",
       "    }\n",
       "</style>\n",
       "<table border=\"1\" class=\"dataframe\">\n",
       "  <thead>\n",
       "    <tr style=\"text-align: right;\">\n",
       "      <th></th>\n",
       "      <th>Month</th>\n",
       "      <th>Amount</th>\n",
       "      <th>Ticker</th>\n",
       "    </tr>\n",
       "  </thead>\n",
       "  <tbody>\n",
       "    <tr>\n",
       "      <th>0</th>\n",
       "      <td>1</td>\n",
       "      <td>2320.452287</td>\n",
       "      <td>FXAIX</td>\n",
       "    </tr>\n",
       "    <tr>\n",
       "      <th>1</th>\n",
       "      <td>2</td>\n",
       "      <td>2356.131783</td>\n",
       "      <td>FXAIX</td>\n",
       "    </tr>\n",
       "    <tr>\n",
       "      <th>2</th>\n",
       "      <td>3</td>\n",
       "      <td>2404.018397</td>\n",
       "      <td>FXAIX</td>\n",
       "    </tr>\n",
       "    <tr>\n",
       "      <th>3</th>\n",
       "      <td>4</td>\n",
       "      <td>2440.658697</td>\n",
       "      <td>FXAIX</td>\n",
       "    </tr>\n",
       "    <tr>\n",
       "      <th>4</th>\n",
       "      <td>5</td>\n",
       "      <td>2477.720271</td>\n",
       "      <td>FXAIX</td>\n",
       "    </tr>\n",
       "    <tr>\n",
       "      <th>...</th>\n",
       "      <td>...</td>\n",
       "      <td>...</td>\n",
       "      <td>...</td>\n",
       "    </tr>\n",
       "    <tr>\n",
       "      <th>2515</th>\n",
       "      <td>356</td>\n",
       "      <td>9337.241821</td>\n",
       "      <td>FSRNX</td>\n",
       "    </tr>\n",
       "    <tr>\n",
       "      <th>2516</th>\n",
       "      <td>357</td>\n",
       "      <td>9460.503668</td>\n",
       "      <td>FSRNX</td>\n",
       "    </tr>\n",
       "    <tr>\n",
       "      <th>2517</th>\n",
       "      <td>358</td>\n",
       "      <td>9519.704339</td>\n",
       "      <td>FSRNX</td>\n",
       "    </tr>\n",
       "    <tr>\n",
       "      <th>2518</th>\n",
       "      <td>359</td>\n",
       "      <td>9579.266082</td>\n",
       "      <td>FSRNX</td>\n",
       "    </tr>\n",
       "    <tr>\n",
       "      <th>2519</th>\n",
       "      <td>360</td>\n",
       "      <td>9705.684034</td>\n",
       "      <td>FSRNX</td>\n",
       "    </tr>\n",
       "  </tbody>\n",
       "</table>\n",
       "<p>2520 rows × 3 columns</p>\n",
       "</div>"
      ],
      "text/plain": [
       "     Month       Amount Ticker\n",
       "0        1  2320.452287  FXAIX\n",
       "1        2  2356.131783  FXAIX\n",
       "2        3  2404.018397  FXAIX\n",
       "3        4  2440.658697  FXAIX\n",
       "4        5  2477.720271  FXAIX\n",
       "...    ...          ...    ...\n",
       "2515   356  9337.241821  FSRNX\n",
       "2516   357  9460.503668  FSRNX\n",
       "2517   358  9519.704339  FSRNX\n",
       "2518   359  9579.266082  FSRNX\n",
       "2519   360  9705.684034  FSRNX\n",
       "\n",
       "[2520 rows x 3 columns]"
      ]
     },
     "execution_count": 13,
     "metadata": {},
     "output_type": "execute_result"
    }
   ],
   "source": [
    "totalInvestmentPrediction(portfolio,monthly_investments,years_to_invest)"
   ]
  },
  {
   "cell_type": "code",
   "execution_count": 14,
   "metadata": {},
   "outputs": [],
   "source": [
    "# now we need to add up all of the rows that have the same years\n",
    "def amountPeryear(Portfolio,Monthly_investments,Years_to_invest):\n",
    "    # calculate the total portfolio growth\n",
    "    total_portfolio = totalInvestmentPrediction(Portfolio,Monthly_investments,Years_to_invest)\n",
    "    # make a new dataframe to hold the year and amount that will be calculated\n",
    "    sum_portfolio = pd.DataFrame(columns = ['Year', 'Amount'])\n",
    "    # find the initail amount that the portfolio is worth\n",
    "    initial_invest = currentPortfolioWorth(Portfolio)\n",
    "    # append that amount to year 0 of the portfolio we created\n",
    "    sum_portfolio = sum_portfolio.append({'Year':0,'Amount':initial_invest},ignore_index=True)\n",
    "    # itereate throught the number of years to the user plans to invest\n",
    "    for i in range(1,Years_to_invest+1):\n",
    "        # find the sum of all of the months that are evenly divisible by 12, this is grouping our months\n",
    "        per_year = total_portfolio[total_portfolio['Month']==i*12]['Amount'].sum()\n",
    "        # append that amount to the portfolio with the number of years\n",
    "        sum_portfolio =  sum_portfolio.append({'Year': i, 'Amount': per_year}, ignore_index = True)\n",
    "    return sum_portfolio\n",
    "    "
   ]
  },
  {
   "cell_type": "code",
   "execution_count": 15,
   "metadata": {},
   "outputs": [
    {
     "data": {
      "text/html": [
       "<div>\n",
       "<style scoped>\n",
       "    .dataframe tbody tr th:only-of-type {\n",
       "        vertical-align: middle;\n",
       "    }\n",
       "\n",
       "    .dataframe tbody tr th {\n",
       "        vertical-align: top;\n",
       "    }\n",
       "\n",
       "    .dataframe thead th {\n",
       "        text-align: right;\n",
       "    }\n",
       "</style>\n",
       "<table border=\"1\" class=\"dataframe\">\n",
       "  <thead>\n",
       "    <tr style=\"text-align: right;\">\n",
       "      <th></th>\n",
       "      <th>Year</th>\n",
       "      <th>Amount</th>\n",
       "    </tr>\n",
       "  </thead>\n",
       "  <tbody>\n",
       "    <tr>\n",
       "      <th>0</th>\n",
       "      <td>0.0</td>\n",
       "      <td>9761.300986</td>\n",
       "    </tr>\n",
       "    <tr>\n",
       "      <th>1</th>\n",
       "      <td>1.0</td>\n",
       "      <td>11152.951219</td>\n",
       "    </tr>\n",
       "    <tr>\n",
       "      <th>2</th>\n",
       "      <td>2.0</td>\n",
       "      <td>12855.337183</td>\n",
       "    </tr>\n",
       "    <tr>\n",
       "      <th>3</th>\n",
       "      <td>3.0</td>\n",
       "      <td>14802.259922</td>\n",
       "    </tr>\n",
       "    <tr>\n",
       "      <th>4</th>\n",
       "      <td>4.0</td>\n",
       "      <td>17031.219252</td>\n",
       "    </tr>\n",
       "    <tr>\n",
       "      <th>5</th>\n",
       "      <td>5.0</td>\n",
       "      <td>19585.588084</td>\n",
       "    </tr>\n",
       "    <tr>\n",
       "      <th>6</th>\n",
       "      <td>6.0</td>\n",
       "      <td>22515.542139</td>\n",
       "    </tr>\n",
       "    <tr>\n",
       "      <th>7</th>\n",
       "      <td>7.0</td>\n",
       "      <td>25879.137997</td>\n",
       "    </tr>\n",
       "    <tr>\n",
       "      <th>8</th>\n",
       "      <td>8.0</td>\n",
       "      <td>29743.563282</td>\n",
       "    </tr>\n",
       "    <tr>\n",
       "      <th>9</th>\n",
       "      <td>9.0</td>\n",
       "      <td>34186.586670</td>\n",
       "    </tr>\n",
       "    <tr>\n",
       "      <th>10</th>\n",
       "      <td>10.0</td>\n",
       "      <td>39298.239855</td>\n",
       "    </tr>\n",
       "    <tr>\n",
       "      <th>11</th>\n",
       "      <td>11.0</td>\n",
       "      <td>45182.768800</td>\n",
       "    </tr>\n",
       "    <tr>\n",
       "      <th>12</th>\n",
       "      <td>12.0</td>\n",
       "      <td>51960.897672</td>\n",
       "    </tr>\n",
       "    <tr>\n",
       "      <th>13</th>\n",
       "      <td>13.0</td>\n",
       "      <td>59772.455853</td>\n",
       "    </tr>\n",
       "    <tr>\n",
       "      <th>14</th>\n",
       "      <td>14.0</td>\n",
       "      <td>68779.426625</td>\n",
       "    </tr>\n",
       "    <tr>\n",
       "      <th>15</th>\n",
       "      <td>15.0</td>\n",
       "      <td>79169.485579</td>\n",
       "    </tr>\n",
       "    <tr>\n",
       "      <th>16</th>\n",
       "      <td>16.0</td>\n",
       "      <td>91160.107911</td>\n",
       "    </tr>\n",
       "    <tr>\n",
       "      <th>17</th>\n",
       "      <td>17.0</td>\n",
       "      <td>105003.336556</td>\n",
       "    </tr>\n",
       "    <tr>\n",
       "      <th>18</th>\n",
       "      <td>18.0</td>\n",
       "      <td>120991.318097</td>\n",
       "    </tr>\n",
       "    <tr>\n",
       "      <th>19</th>\n",
       "      <td>19.0</td>\n",
       "      <td>139462.730754</td>\n",
       "    </tr>\n",
       "    <tr>\n",
       "      <th>20</th>\n",
       "      <td>20.0</td>\n",
       "      <td>160810.249002</td>\n",
       "    </tr>\n",
       "    <tr>\n",
       "      <th>21</th>\n",
       "      <td>21.0</td>\n",
       "      <td>185489.212870</td>\n",
       "    </tr>\n",
       "    <tr>\n",
       "      <th>22</th>\n",
       "      <td>22.0</td>\n",
       "      <td>214027.697377</td>\n",
       "    </tr>\n",
       "    <tr>\n",
       "      <th>23</th>\n",
       "      <td>23.0</td>\n",
       "      <td>247038.209410</td>\n",
       "    </tr>\n",
       "    <tr>\n",
       "      <th>24</th>\n",
       "      <td>24.0</td>\n",
       "      <td>285231.276414</td>\n",
       "    </tr>\n",
       "    <tr>\n",
       "      <th>25</th>\n",
       "      <td>25.0</td>\n",
       "      <td>329431.234422</td>\n",
       "    </tr>\n",
       "    <tr>\n",
       "      <th>26</th>\n",
       "      <td>26.0</td>\n",
       "      <td>380594.573140</td>\n",
       "    </tr>\n",
       "    <tr>\n",
       "      <th>27</th>\n",
       "      <td>27.0</td>\n",
       "      <td>439831.254284</td>\n",
       "    </tr>\n",
       "    <tr>\n",
       "      <th>28</th>\n",
       "      <td>28.0</td>\n",
       "      <td>508429.487342</td>\n",
       "    </tr>\n",
       "    <tr>\n",
       "      <th>29</th>\n",
       "      <td>29.0</td>\n",
       "      <td>587884.526189</td>\n",
       "    </tr>\n",
       "    <tr>\n",
       "      <th>30</th>\n",
       "      <td>30.0</td>\n",
       "      <td>679932.142112</td>\n",
       "    </tr>\n",
       "  </tbody>\n",
       "</table>\n",
       "</div>"
      ],
      "text/plain": [
       "    Year         Amount\n",
       "0    0.0    9761.300986\n",
       "1    1.0   11152.951219\n",
       "2    2.0   12855.337183\n",
       "3    3.0   14802.259922\n",
       "4    4.0   17031.219252\n",
       "5    5.0   19585.588084\n",
       "6    6.0   22515.542139\n",
       "7    7.0   25879.137997\n",
       "8    8.0   29743.563282\n",
       "9    9.0   34186.586670\n",
       "10  10.0   39298.239855\n",
       "11  11.0   45182.768800\n",
       "12  12.0   51960.897672\n",
       "13  13.0   59772.455853\n",
       "14  14.0   68779.426625\n",
       "15  15.0   79169.485579\n",
       "16  16.0   91160.107911\n",
       "17  17.0  105003.336556\n",
       "18  18.0  120991.318097\n",
       "19  19.0  139462.730754\n",
       "20  20.0  160810.249002\n",
       "21  21.0  185489.212870\n",
       "22  22.0  214027.697377\n",
       "23  23.0  247038.209410\n",
       "24  24.0  285231.276414\n",
       "25  25.0  329431.234422\n",
       "26  26.0  380594.573140\n",
       "27  27.0  439831.254284\n",
       "28  28.0  508429.487342\n",
       "29  29.0  587884.526189\n",
       "30  30.0  679932.142112"
      ]
     },
     "execution_count": 15,
     "metadata": {},
     "output_type": "execute_result"
    }
   ],
   "source": [
    "amountPeryear(portfolio,monthly_investments,years_to_invest)"
   ]
  },
  {
   "cell_type": "code",
   "execution_count": 16,
   "metadata": {},
   "outputs": [
    {
     "data": {
      "application/vnd.plotly.v1+json": {
       "config": {
        "plotlyServerURL": "https://plot.ly"
       },
       "data": [
        {
         "marker": {
          "color": "green"
         },
         "mode": "lines",
         "type": "scatter",
         "x": [
          0,
          1,
          2,
          3,
          4,
          5,
          6,
          7,
          8,
          9,
          10,
          11,
          12,
          13,
          14,
          15,
          16,
          17,
          18,
          19,
          20,
          21,
          22,
          23,
          24,
          25,
          26,
          27,
          28,
          29,
          30
         ],
         "y": [
          9761.300985552787,
          11152.951218972988,
          12855.337182540616,
          14802.259922249918,
          17031.219252366132,
          19585.588083800994,
          22515.54213946873,
          25879.137997399856,
          29743.563281866056,
          34186.586670194825,
          39298.23985499357,
          45182.76880002763,
          51960.89767155382,
          59772.45585347198,
          68779.42662481012,
          79169.48557873043,
          91160.10791102925,
          105003.33655632539,
          120991.31809671213,
          139462.73075397732,
          160810.2490024165,
          185489.21287037828,
          214027.69737721223,
          247038.20940971933,
          285231.27641402144,
          329431.234421638,
          380594.57314037543,
          439831.2542838332,
          508429.4873421538,
          587884.5261887992,
          679932.1421118989
         ]
        }
       ],
       "layout": {
        "template": {
         "data": {
          "bar": [
           {
            "error_x": {
             "color": "#2a3f5f"
            },
            "error_y": {
             "color": "#2a3f5f"
            },
            "marker": {
             "line": {
              "color": "#E5ECF6",
              "width": 0.5
             },
             "pattern": {
              "fillmode": "overlay",
              "size": 10,
              "solidity": 0.2
             }
            },
            "type": "bar"
           }
          ],
          "barpolar": [
           {
            "marker": {
             "line": {
              "color": "#E5ECF6",
              "width": 0.5
             },
             "pattern": {
              "fillmode": "overlay",
              "size": 10,
              "solidity": 0.2
             }
            },
            "type": "barpolar"
           }
          ],
          "carpet": [
           {
            "aaxis": {
             "endlinecolor": "#2a3f5f",
             "gridcolor": "white",
             "linecolor": "white",
             "minorgridcolor": "white",
             "startlinecolor": "#2a3f5f"
            },
            "baxis": {
             "endlinecolor": "#2a3f5f",
             "gridcolor": "white",
             "linecolor": "white",
             "minorgridcolor": "white",
             "startlinecolor": "#2a3f5f"
            },
            "type": "carpet"
           }
          ],
          "choropleth": [
           {
            "colorbar": {
             "outlinewidth": 0,
             "ticks": ""
            },
            "type": "choropleth"
           }
          ],
          "contour": [
           {
            "colorbar": {
             "outlinewidth": 0,
             "ticks": ""
            },
            "colorscale": [
             [
              0,
              "#0d0887"
             ],
             [
              0.1111111111111111,
              "#46039f"
             ],
             [
              0.2222222222222222,
              "#7201a8"
             ],
             [
              0.3333333333333333,
              "#9c179e"
             ],
             [
              0.4444444444444444,
              "#bd3786"
             ],
             [
              0.5555555555555556,
              "#d8576b"
             ],
             [
              0.6666666666666666,
              "#ed7953"
             ],
             [
              0.7777777777777778,
              "#fb9f3a"
             ],
             [
              0.8888888888888888,
              "#fdca26"
             ],
             [
              1,
              "#f0f921"
             ]
            ],
            "type": "contour"
           }
          ],
          "contourcarpet": [
           {
            "colorbar": {
             "outlinewidth": 0,
             "ticks": ""
            },
            "type": "contourcarpet"
           }
          ],
          "heatmap": [
           {
            "colorbar": {
             "outlinewidth": 0,
             "ticks": ""
            },
            "colorscale": [
             [
              0,
              "#0d0887"
             ],
             [
              0.1111111111111111,
              "#46039f"
             ],
             [
              0.2222222222222222,
              "#7201a8"
             ],
             [
              0.3333333333333333,
              "#9c179e"
             ],
             [
              0.4444444444444444,
              "#bd3786"
             ],
             [
              0.5555555555555556,
              "#d8576b"
             ],
             [
              0.6666666666666666,
              "#ed7953"
             ],
             [
              0.7777777777777778,
              "#fb9f3a"
             ],
             [
              0.8888888888888888,
              "#fdca26"
             ],
             [
              1,
              "#f0f921"
             ]
            ],
            "type": "heatmap"
           }
          ],
          "heatmapgl": [
           {
            "colorbar": {
             "outlinewidth": 0,
             "ticks": ""
            },
            "colorscale": [
             [
              0,
              "#0d0887"
             ],
             [
              0.1111111111111111,
              "#46039f"
             ],
             [
              0.2222222222222222,
              "#7201a8"
             ],
             [
              0.3333333333333333,
              "#9c179e"
             ],
             [
              0.4444444444444444,
              "#bd3786"
             ],
             [
              0.5555555555555556,
              "#d8576b"
             ],
             [
              0.6666666666666666,
              "#ed7953"
             ],
             [
              0.7777777777777778,
              "#fb9f3a"
             ],
             [
              0.8888888888888888,
              "#fdca26"
             ],
             [
              1,
              "#f0f921"
             ]
            ],
            "type": "heatmapgl"
           }
          ],
          "histogram": [
           {
            "marker": {
             "pattern": {
              "fillmode": "overlay",
              "size": 10,
              "solidity": 0.2
             }
            },
            "type": "histogram"
           }
          ],
          "histogram2d": [
           {
            "colorbar": {
             "outlinewidth": 0,
             "ticks": ""
            },
            "colorscale": [
             [
              0,
              "#0d0887"
             ],
             [
              0.1111111111111111,
              "#46039f"
             ],
             [
              0.2222222222222222,
              "#7201a8"
             ],
             [
              0.3333333333333333,
              "#9c179e"
             ],
             [
              0.4444444444444444,
              "#bd3786"
             ],
             [
              0.5555555555555556,
              "#d8576b"
             ],
             [
              0.6666666666666666,
              "#ed7953"
             ],
             [
              0.7777777777777778,
              "#fb9f3a"
             ],
             [
              0.8888888888888888,
              "#fdca26"
             ],
             [
              1,
              "#f0f921"
             ]
            ],
            "type": "histogram2d"
           }
          ],
          "histogram2dcontour": [
           {
            "colorbar": {
             "outlinewidth": 0,
             "ticks": ""
            },
            "colorscale": [
             [
              0,
              "#0d0887"
             ],
             [
              0.1111111111111111,
              "#46039f"
             ],
             [
              0.2222222222222222,
              "#7201a8"
             ],
             [
              0.3333333333333333,
              "#9c179e"
             ],
             [
              0.4444444444444444,
              "#bd3786"
             ],
             [
              0.5555555555555556,
              "#d8576b"
             ],
             [
              0.6666666666666666,
              "#ed7953"
             ],
             [
              0.7777777777777778,
              "#fb9f3a"
             ],
             [
              0.8888888888888888,
              "#fdca26"
             ],
             [
              1,
              "#f0f921"
             ]
            ],
            "type": "histogram2dcontour"
           }
          ],
          "mesh3d": [
           {
            "colorbar": {
             "outlinewidth": 0,
             "ticks": ""
            },
            "type": "mesh3d"
           }
          ],
          "parcoords": [
           {
            "line": {
             "colorbar": {
              "outlinewidth": 0,
              "ticks": ""
             }
            },
            "type": "parcoords"
           }
          ],
          "pie": [
           {
            "automargin": true,
            "type": "pie"
           }
          ],
          "scatter": [
           {
            "fillpattern": {
             "fillmode": "overlay",
             "size": 10,
             "solidity": 0.2
            },
            "type": "scatter"
           }
          ],
          "scatter3d": [
           {
            "line": {
             "colorbar": {
              "outlinewidth": 0,
              "ticks": ""
             }
            },
            "marker": {
             "colorbar": {
              "outlinewidth": 0,
              "ticks": ""
             }
            },
            "type": "scatter3d"
           }
          ],
          "scattercarpet": [
           {
            "marker": {
             "colorbar": {
              "outlinewidth": 0,
              "ticks": ""
             }
            },
            "type": "scattercarpet"
           }
          ],
          "scattergeo": [
           {
            "marker": {
             "colorbar": {
              "outlinewidth": 0,
              "ticks": ""
             }
            },
            "type": "scattergeo"
           }
          ],
          "scattergl": [
           {
            "marker": {
             "colorbar": {
              "outlinewidth": 0,
              "ticks": ""
             }
            },
            "type": "scattergl"
           }
          ],
          "scattermapbox": [
           {
            "marker": {
             "colorbar": {
              "outlinewidth": 0,
              "ticks": ""
             }
            },
            "type": "scattermapbox"
           }
          ],
          "scatterpolar": [
           {
            "marker": {
             "colorbar": {
              "outlinewidth": 0,
              "ticks": ""
             }
            },
            "type": "scatterpolar"
           }
          ],
          "scatterpolargl": [
           {
            "marker": {
             "colorbar": {
              "outlinewidth": 0,
              "ticks": ""
             }
            },
            "type": "scatterpolargl"
           }
          ],
          "scatterternary": [
           {
            "marker": {
             "colorbar": {
              "outlinewidth": 0,
              "ticks": ""
             }
            },
            "type": "scatterternary"
           }
          ],
          "surface": [
           {
            "colorbar": {
             "outlinewidth": 0,
             "ticks": ""
            },
            "colorscale": [
             [
              0,
              "#0d0887"
             ],
             [
              0.1111111111111111,
              "#46039f"
             ],
             [
              0.2222222222222222,
              "#7201a8"
             ],
             [
              0.3333333333333333,
              "#9c179e"
             ],
             [
              0.4444444444444444,
              "#bd3786"
             ],
             [
              0.5555555555555556,
              "#d8576b"
             ],
             [
              0.6666666666666666,
              "#ed7953"
             ],
             [
              0.7777777777777778,
              "#fb9f3a"
             ],
             [
              0.8888888888888888,
              "#fdca26"
             ],
             [
              1,
              "#f0f921"
             ]
            ],
            "type": "surface"
           }
          ],
          "table": [
           {
            "cells": {
             "fill": {
              "color": "#EBF0F8"
             },
             "line": {
              "color": "white"
             }
            },
            "header": {
             "fill": {
              "color": "#C8D4E3"
             },
             "line": {
              "color": "white"
             }
            },
            "type": "table"
           }
          ]
         },
         "layout": {
          "annotationdefaults": {
           "arrowcolor": "#2a3f5f",
           "arrowhead": 0,
           "arrowwidth": 1
          },
          "autotypenumbers": "strict",
          "coloraxis": {
           "colorbar": {
            "outlinewidth": 0,
            "ticks": ""
           }
          },
          "colorscale": {
           "diverging": [
            [
             0,
             "#8e0152"
            ],
            [
             0.1,
             "#c51b7d"
            ],
            [
             0.2,
             "#de77ae"
            ],
            [
             0.3,
             "#f1b6da"
            ],
            [
             0.4,
             "#fde0ef"
            ],
            [
             0.5,
             "#f7f7f7"
            ],
            [
             0.6,
             "#e6f5d0"
            ],
            [
             0.7,
             "#b8e186"
            ],
            [
             0.8,
             "#7fbc41"
            ],
            [
             0.9,
             "#4d9221"
            ],
            [
             1,
             "#276419"
            ]
           ],
           "sequential": [
            [
             0,
             "#0d0887"
            ],
            [
             0.1111111111111111,
             "#46039f"
            ],
            [
             0.2222222222222222,
             "#7201a8"
            ],
            [
             0.3333333333333333,
             "#9c179e"
            ],
            [
             0.4444444444444444,
             "#bd3786"
            ],
            [
             0.5555555555555556,
             "#d8576b"
            ],
            [
             0.6666666666666666,
             "#ed7953"
            ],
            [
             0.7777777777777778,
             "#fb9f3a"
            ],
            [
             0.8888888888888888,
             "#fdca26"
            ],
            [
             1,
             "#f0f921"
            ]
           ],
           "sequentialminus": [
            [
             0,
             "#0d0887"
            ],
            [
             0.1111111111111111,
             "#46039f"
            ],
            [
             0.2222222222222222,
             "#7201a8"
            ],
            [
             0.3333333333333333,
             "#9c179e"
            ],
            [
             0.4444444444444444,
             "#bd3786"
            ],
            [
             0.5555555555555556,
             "#d8576b"
            ],
            [
             0.6666666666666666,
             "#ed7953"
            ],
            [
             0.7777777777777778,
             "#fb9f3a"
            ],
            [
             0.8888888888888888,
             "#fdca26"
            ],
            [
             1,
             "#f0f921"
            ]
           ]
          },
          "colorway": [
           "#636efa",
           "#EF553B",
           "#00cc96",
           "#ab63fa",
           "#FFA15A",
           "#19d3f3",
           "#FF6692",
           "#B6E880",
           "#FF97FF",
           "#FECB52"
          ],
          "font": {
           "color": "#2a3f5f"
          },
          "geo": {
           "bgcolor": "white",
           "lakecolor": "white",
           "landcolor": "#E5ECF6",
           "showlakes": true,
           "showland": true,
           "subunitcolor": "white"
          },
          "hoverlabel": {
           "align": "left"
          },
          "hovermode": "closest",
          "mapbox": {
           "style": "light"
          },
          "paper_bgcolor": "white",
          "plot_bgcolor": "#E5ECF6",
          "polar": {
           "angularaxis": {
            "gridcolor": "white",
            "linecolor": "white",
            "ticks": ""
           },
           "bgcolor": "#E5ECF6",
           "radialaxis": {
            "gridcolor": "white",
            "linecolor": "white",
            "ticks": ""
           }
          },
          "scene": {
           "xaxis": {
            "backgroundcolor": "#E5ECF6",
            "gridcolor": "white",
            "gridwidth": 2,
            "linecolor": "white",
            "showbackground": true,
            "ticks": "",
            "zerolinecolor": "white"
           },
           "yaxis": {
            "backgroundcolor": "#E5ECF6",
            "gridcolor": "white",
            "gridwidth": 2,
            "linecolor": "white",
            "showbackground": true,
            "ticks": "",
            "zerolinecolor": "white"
           },
           "zaxis": {
            "backgroundcolor": "#E5ECF6",
            "gridcolor": "white",
            "gridwidth": 2,
            "linecolor": "white",
            "showbackground": true,
            "ticks": "",
            "zerolinecolor": "white"
           }
          },
          "shapedefaults": {
           "line": {
            "color": "#2a3f5f"
           }
          },
          "ternary": {
           "aaxis": {
            "gridcolor": "white",
            "linecolor": "white",
            "ticks": ""
           },
           "baxis": {
            "gridcolor": "white",
            "linecolor": "white",
            "ticks": ""
           },
           "bgcolor": "#E5ECF6",
           "caxis": {
            "gridcolor": "white",
            "linecolor": "white",
            "ticks": ""
           }
          },
          "title": {
           "x": 0.05
          },
          "xaxis": {
           "automargin": true,
           "gridcolor": "white",
           "linecolor": "white",
           "ticks": "",
           "title": {
            "standoff": 15
           },
           "zerolinecolor": "white",
           "zerolinewidth": 2
          },
          "yaxis": {
           "automargin": true,
           "gridcolor": "white",
           "linecolor": "white",
           "ticks": "",
           "title": {
            "standoff": 15
           },
           "zerolinecolor": "white",
           "zerolinewidth": 2
          }
         }
        }
       }
      }
     },
     "metadata": {},
     "output_type": "display_data"
    }
   ],
   "source": [
    "# graph the total data\n",
    "total_investment = amountPeryear(portfolio,monthly_investments,years_to_invest)\n",
    "fig = go.Figure(data=go.Scatter(x=total_investment['Year'], y=total_investment['Amount'], mode='lines', marker=dict(color='green')))\n",
    "fig.show()"
   ]
  },
  {
   "cell_type": "code",
   "execution_count": 17,
   "metadata": {},
   "outputs": [
    {
     "data": {
      "text/html": [
       "<div>\n",
       "<style scoped>\n",
       "    .dataframe tbody tr th:only-of-type {\n",
       "        vertical-align: middle;\n",
       "    }\n",
       "\n",
       "    .dataframe tbody tr th {\n",
       "        vertical-align: top;\n",
       "    }\n",
       "\n",
       "    .dataframe thead th {\n",
       "        text-align: right;\n",
       "    }\n",
       "</style>\n",
       "<table border=\"1\" class=\"dataframe\">\n",
       "  <thead>\n",
       "    <tr style=\"text-align: right;\">\n",
       "      <th></th>\n",
       "      <th>Year</th>\n",
       "      <th>Amount</th>\n",
       "      <th>Money_Invested</th>\n",
       "    </tr>\n",
       "  </thead>\n",
       "  <tbody>\n",
       "    <tr>\n",
       "      <th>0</th>\n",
       "      <td>0.0</td>\n",
       "      <td>9761.300986</td>\n",
       "      <td>9761.300986</td>\n",
       "    </tr>\n",
       "    <tr>\n",
       "      <th>1</th>\n",
       "      <td>1.0</td>\n",
       "      <td>11152.951219</td>\n",
       "      <td>10121.300986</td>\n",
       "    </tr>\n",
       "    <tr>\n",
       "      <th>2</th>\n",
       "      <td>2.0</td>\n",
       "      <td>12855.337183</td>\n",
       "      <td>10481.300986</td>\n",
       "    </tr>\n",
       "    <tr>\n",
       "      <th>3</th>\n",
       "      <td>3.0</td>\n",
       "      <td>14802.259922</td>\n",
       "      <td>10841.300986</td>\n",
       "    </tr>\n",
       "    <tr>\n",
       "      <th>4</th>\n",
       "      <td>4.0</td>\n",
       "      <td>17031.219252</td>\n",
       "      <td>11201.300986</td>\n",
       "    </tr>\n",
       "    <tr>\n",
       "      <th>5</th>\n",
       "      <td>5.0</td>\n",
       "      <td>19585.588084</td>\n",
       "      <td>11561.300986</td>\n",
       "    </tr>\n",
       "    <tr>\n",
       "      <th>6</th>\n",
       "      <td>6.0</td>\n",
       "      <td>22515.542139</td>\n",
       "      <td>11921.300986</td>\n",
       "    </tr>\n",
       "    <tr>\n",
       "      <th>7</th>\n",
       "      <td>7.0</td>\n",
       "      <td>25879.137997</td>\n",
       "      <td>12281.300986</td>\n",
       "    </tr>\n",
       "    <tr>\n",
       "      <th>8</th>\n",
       "      <td>8.0</td>\n",
       "      <td>29743.563282</td>\n",
       "      <td>12641.300986</td>\n",
       "    </tr>\n",
       "    <tr>\n",
       "      <th>9</th>\n",
       "      <td>9.0</td>\n",
       "      <td>34186.586670</td>\n",
       "      <td>13001.300986</td>\n",
       "    </tr>\n",
       "    <tr>\n",
       "      <th>10</th>\n",
       "      <td>10.0</td>\n",
       "      <td>39298.239855</td>\n",
       "      <td>13361.300986</td>\n",
       "    </tr>\n",
       "    <tr>\n",
       "      <th>11</th>\n",
       "      <td>11.0</td>\n",
       "      <td>45182.768800</td>\n",
       "      <td>13721.300986</td>\n",
       "    </tr>\n",
       "    <tr>\n",
       "      <th>12</th>\n",
       "      <td>12.0</td>\n",
       "      <td>51960.897672</td>\n",
       "      <td>14081.300986</td>\n",
       "    </tr>\n",
       "    <tr>\n",
       "      <th>13</th>\n",
       "      <td>13.0</td>\n",
       "      <td>59772.455853</td>\n",
       "      <td>14441.300986</td>\n",
       "    </tr>\n",
       "    <tr>\n",
       "      <th>14</th>\n",
       "      <td>14.0</td>\n",
       "      <td>68779.426625</td>\n",
       "      <td>14801.300986</td>\n",
       "    </tr>\n",
       "    <tr>\n",
       "      <th>15</th>\n",
       "      <td>15.0</td>\n",
       "      <td>79169.485579</td>\n",
       "      <td>15161.300986</td>\n",
       "    </tr>\n",
       "    <tr>\n",
       "      <th>16</th>\n",
       "      <td>16.0</td>\n",
       "      <td>91160.107911</td>\n",
       "      <td>15521.300986</td>\n",
       "    </tr>\n",
       "    <tr>\n",
       "      <th>17</th>\n",
       "      <td>17.0</td>\n",
       "      <td>105003.336556</td>\n",
       "      <td>15881.300986</td>\n",
       "    </tr>\n",
       "    <tr>\n",
       "      <th>18</th>\n",
       "      <td>18.0</td>\n",
       "      <td>120991.318097</td>\n",
       "      <td>16241.300986</td>\n",
       "    </tr>\n",
       "    <tr>\n",
       "      <th>19</th>\n",
       "      <td>19.0</td>\n",
       "      <td>139462.730754</td>\n",
       "      <td>16601.300986</td>\n",
       "    </tr>\n",
       "    <tr>\n",
       "      <th>20</th>\n",
       "      <td>20.0</td>\n",
       "      <td>160810.249002</td>\n",
       "      <td>16961.300986</td>\n",
       "    </tr>\n",
       "    <tr>\n",
       "      <th>21</th>\n",
       "      <td>21.0</td>\n",
       "      <td>185489.212870</td>\n",
       "      <td>17321.300986</td>\n",
       "    </tr>\n",
       "    <tr>\n",
       "      <th>22</th>\n",
       "      <td>22.0</td>\n",
       "      <td>214027.697377</td>\n",
       "      <td>17681.300986</td>\n",
       "    </tr>\n",
       "    <tr>\n",
       "      <th>23</th>\n",
       "      <td>23.0</td>\n",
       "      <td>247038.209410</td>\n",
       "      <td>18041.300986</td>\n",
       "    </tr>\n",
       "    <tr>\n",
       "      <th>24</th>\n",
       "      <td>24.0</td>\n",
       "      <td>285231.276414</td>\n",
       "      <td>18401.300986</td>\n",
       "    </tr>\n",
       "    <tr>\n",
       "      <th>25</th>\n",
       "      <td>25.0</td>\n",
       "      <td>329431.234422</td>\n",
       "      <td>18761.300986</td>\n",
       "    </tr>\n",
       "    <tr>\n",
       "      <th>26</th>\n",
       "      <td>26.0</td>\n",
       "      <td>380594.573140</td>\n",
       "      <td>19121.300986</td>\n",
       "    </tr>\n",
       "    <tr>\n",
       "      <th>27</th>\n",
       "      <td>27.0</td>\n",
       "      <td>439831.254284</td>\n",
       "      <td>19481.300986</td>\n",
       "    </tr>\n",
       "    <tr>\n",
       "      <th>28</th>\n",
       "      <td>28.0</td>\n",
       "      <td>508429.487342</td>\n",
       "      <td>19841.300986</td>\n",
       "    </tr>\n",
       "    <tr>\n",
       "      <th>29</th>\n",
       "      <td>29.0</td>\n",
       "      <td>587884.526189</td>\n",
       "      <td>20201.300986</td>\n",
       "    </tr>\n",
       "    <tr>\n",
       "      <th>30</th>\n",
       "      <td>30.0</td>\n",
       "      <td>679932.142112</td>\n",
       "      <td>20561.300986</td>\n",
       "    </tr>\n",
       "  </tbody>\n",
       "</table>\n",
       "</div>"
      ],
      "text/plain": [
       "    Year         Amount  Money_Invested\n",
       "0    0.0    9761.300986     9761.300986\n",
       "1    1.0   11152.951219    10121.300986\n",
       "2    2.0   12855.337183    10481.300986\n",
       "3    3.0   14802.259922    10841.300986\n",
       "4    4.0   17031.219252    11201.300986\n",
       "5    5.0   19585.588084    11561.300986\n",
       "6    6.0   22515.542139    11921.300986\n",
       "7    7.0   25879.137997    12281.300986\n",
       "8    8.0   29743.563282    12641.300986\n",
       "9    9.0   34186.586670    13001.300986\n",
       "10  10.0   39298.239855    13361.300986\n",
       "11  11.0   45182.768800    13721.300986\n",
       "12  12.0   51960.897672    14081.300986\n",
       "13  13.0   59772.455853    14441.300986\n",
       "14  14.0   68779.426625    14801.300986\n",
       "15  15.0   79169.485579    15161.300986\n",
       "16  16.0   91160.107911    15521.300986\n",
       "17  17.0  105003.336556    15881.300986\n",
       "18  18.0  120991.318097    16241.300986\n",
       "19  19.0  139462.730754    16601.300986\n",
       "20  20.0  160810.249002    16961.300986\n",
       "21  21.0  185489.212870    17321.300986\n",
       "22  22.0  214027.697377    17681.300986\n",
       "23  23.0  247038.209410    18041.300986\n",
       "24  24.0  285231.276414    18401.300986\n",
       "25  25.0  329431.234422    18761.300986\n",
       "26  26.0  380594.573140    19121.300986\n",
       "27  27.0  439831.254284    19481.300986\n",
       "28  28.0  508429.487342    19841.300986\n",
       "29  29.0  587884.526189    20201.300986\n",
       "30  30.0  679932.142112    20561.300986"
      ]
     },
     "execution_count": 17,
     "metadata": {},
     "output_type": "execute_result"
    }
   ],
   "source": [
    "# add a column of what money we put in to the portfolio dataframe\n",
    "def compareInvestedtoGrowth(Total_investment, Portfolio, Monthly_investment, Years_to_invest):\n",
    "    # calculate what the user invests per year\n",
    "    yearly_investment = Monthly_investment*12\n",
    "    # find the current worth of the user's portfolio\n",
    "    portfolio_worth = currentPortfolioWorth(Portfolio)\n",
    "    # create a empty list to hold the amount invested per year\n",
    "    money_inv = []\n",
    "    # insert the worth at time 0 into the list\n",
    "    money_inv.insert(0,portfolio_worth)\n",
    "    # insert the worth at year 1 into the portfolio\n",
    "    money_inv.insert(1,portfolio_worth+yearly_investment)\n",
    "    # iterate through the number of years the user plans to invest\n",
    "    for i in range(2,Years_to_invest+1):\n",
    "        # create a new variable that holds the amount invested last year\n",
    "        last_year_amt = money_inv[i-1]\n",
    "        # add the last year investment to the yearly investment to determine the total amount invested at the end of this year\n",
    "        this_year_amt = last_year_amt + yearly_investment\n",
    "        # insert that value into the correct year\n",
    "        money_inv.insert(i,this_year_amt)\n",
    "    # add the list we created with all of the yearly investments to the total investments dataframe\n",
    "    Total_investment.insert(2,'Money_Invested',money_inv,True)\n",
    "    return Total_investment\n",
    "\n",
    "compareInvestedtoGrowth(total_investment,portfolio,monthly_investments,years_to_invest)"
   ]
  },
  {
   "cell_type": "code",
   "execution_count": null,
   "metadata": {},
   "outputs": [],
   "source": []
  }
 ],
 "metadata": {
  "kernelspec": {
   "display_name": "Python 3.10.1 64-bit",
   "language": "python",
   "name": "python3"
  },
  "language_info": {
   "codemirror_mode": {
    "name": "ipython",
    "version": 3
   },
   "file_extension": ".py",
   "mimetype": "text/x-python",
   "name": "python",
   "nbconvert_exporter": "python",
   "pygments_lexer": "ipython3",
   "version": "3.10.1"
  },
  "orig_nbformat": 4,
  "vscode": {
   "interpreter": {
    "hash": "d404347084406b8c6d005244449b7dd5f725b5df89987d39dd27b81ada4d10f3"
   }
  }
 },
 "nbformat": 4,
 "nbformat_minor": 2
}

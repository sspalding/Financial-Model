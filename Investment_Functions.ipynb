{
 "cells": [
  {
   "cell_type": "markdown",
   "metadata": {},
   "source": [
    "# Individual Stock Data Collection and Wrangling"
   ]
  },
  {
   "cell_type": "code",
   "execution_count": 136,
   "metadata": {},
   "outputs": [],
   "source": [
    "# libraries\n",
    "import pandas as pd\n",
    "import yfinance as yf\n",
    "from datetime import date\n",
    "import numpy as np\n",
    "import plotly.express as px\n",
    "import plotly.graph_objects as go"
   ]
  },
  {
   "cell_type": "markdown",
   "metadata": {},
   "source": [
    "goal: make functions for get  \n",
    "- 1st of the month cost per share for a given time period\n",
    "- quarterly dividend amt per share for a given time period\n",
    "- calculate the average dividend \n",
    "- calculate the average monthly cost per share"
   ]
  },
  {
   "cell_type": "code",
   "execution_count": 137,
   "metadata": {},
   "outputs": [],
   "source": [
    "portfolio = pd.DataFrame({\n",
    "    'ticker':['FXAIX','FSSNX','FSPSX','VDADX','FXNAX','VGAVX','FSRNX'],\n",
    "    'quantity':[16.81,18.957,11.455,76.756,12.256,197.257,18.878],\n",
    "    'category':['stock','stock','stock','bond','bond','bond','real estate'],\n",
    "    'future_percents':[0.30,0.25,0.25,0.05,0.05,0.05,0.05]\n",
    "})\n",
    "# monthly amount to invest total\n",
    "monthly_investments = 6000\n",
    "# Number of years plan to invest\n",
    "years_to_invest = 9"
   ]
  },
  {
   "cell_type": "code",
   "execution_count": 138,
   "metadata": {},
   "outputs": [],
   "source": [
    "# calculate the year the individual started investing\n",
    "today = date.today()\n",
    "month = today.month\n",
    "year = today.year"
   ]
  },
  {
   "cell_type": "code",
   "execution_count": 139,
   "metadata": {},
   "outputs": [],
   "source": [
    "# Function to connect to yahoo finance and create soup object\n",
    "def connectYahooFinance (ticker):\n",
    "    ticker_data = yf.Ticker(ticker)\n",
    "    ticker_data = pd.DataFrame(ticker_data.history(period = 'max'))\n",
    "    ticker_data.reset_index(inplace = True)\n",
    "    return ticker_data"
   ]
  },
  {
   "cell_type": "code",
   "execution_count": 140,
   "metadata": {},
   "outputs": [
    {
     "data": {
      "text/html": [
       "<div>\n",
       "<style scoped>\n",
       "    .dataframe tbody tr th:only-of-type {\n",
       "        vertical-align: middle;\n",
       "    }\n",
       "\n",
       "    .dataframe tbody tr th {\n",
       "        vertical-align: top;\n",
       "    }\n",
       "\n",
       "    .dataframe thead th {\n",
       "        text-align: right;\n",
       "    }\n",
       "</style>\n",
       "<table border=\"1\" class=\"dataframe\">\n",
       "  <thead>\n",
       "    <tr style=\"text-align: right;\">\n",
       "      <th></th>\n",
       "      <th>Date</th>\n",
       "      <th>Open</th>\n",
       "      <th>High</th>\n",
       "      <th>Low</th>\n",
       "      <th>Close</th>\n",
       "      <th>Volume</th>\n",
       "      <th>Dividends</th>\n",
       "      <th>Stock Splits</th>\n",
       "    </tr>\n",
       "  </thead>\n",
       "  <tbody>\n",
       "    <tr>\n",
       "      <th>0</th>\n",
       "      <td>2011-05-04</td>\n",
       "      <td>37.664501</td>\n",
       "      <td>37.664501</td>\n",
       "      <td>37.664501</td>\n",
       "      <td>37.664501</td>\n",
       "      <td>0</td>\n",
       "      <td>0.0</td>\n",
       "      <td>0</td>\n",
       "    </tr>\n",
       "    <tr>\n",
       "      <th>1</th>\n",
       "      <td>2011-05-05</td>\n",
       "      <td>37.325237</td>\n",
       "      <td>37.325237</td>\n",
       "      <td>37.325237</td>\n",
       "      <td>37.325237</td>\n",
       "      <td>0</td>\n",
       "      <td>0.0</td>\n",
       "      <td>0</td>\n",
       "    </tr>\n",
       "    <tr>\n",
       "      <th>2</th>\n",
       "      <td>2011-05-06</td>\n",
       "      <td>37.475151</td>\n",
       "      <td>37.475151</td>\n",
       "      <td>37.475151</td>\n",
       "      <td>37.475151</td>\n",
       "      <td>0</td>\n",
       "      <td>0.0</td>\n",
       "      <td>0</td>\n",
       "    </tr>\n",
       "    <tr>\n",
       "      <th>3</th>\n",
       "      <td>2011-05-09</td>\n",
       "      <td>37.640835</td>\n",
       "      <td>37.640835</td>\n",
       "      <td>37.640835</td>\n",
       "      <td>37.640835</td>\n",
       "      <td>0</td>\n",
       "      <td>0.0</td>\n",
       "      <td>0</td>\n",
       "    </tr>\n",
       "    <tr>\n",
       "      <th>4</th>\n",
       "      <td>2011-05-10</td>\n",
       "      <td>37.948521</td>\n",
       "      <td>37.948521</td>\n",
       "      <td>37.948521</td>\n",
       "      <td>37.948521</td>\n",
       "      <td>0</td>\n",
       "      <td>0.0</td>\n",
       "      <td>0</td>\n",
       "    </tr>\n",
       "    <tr>\n",
       "      <th>...</th>\n",
       "      <td>...</td>\n",
       "      <td>...</td>\n",
       "      <td>...</td>\n",
       "      <td>...</td>\n",
       "      <td>...</td>\n",
       "      <td>...</td>\n",
       "      <td>...</td>\n",
       "      <td>...</td>\n",
       "    </tr>\n",
       "    <tr>\n",
       "      <th>2872</th>\n",
       "      <td>2022-09-30</td>\n",
       "      <td>124.930000</td>\n",
       "      <td>124.930000</td>\n",
       "      <td>124.930000</td>\n",
       "      <td>124.930000</td>\n",
       "      <td>0</td>\n",
       "      <td>0.0</td>\n",
       "      <td>0</td>\n",
       "    </tr>\n",
       "    <tr>\n",
       "      <th>2873</th>\n",
       "      <td>2022-10-03</td>\n",
       "      <td>128.169998</td>\n",
       "      <td>128.169998</td>\n",
       "      <td>128.169998</td>\n",
       "      <td>128.169998</td>\n",
       "      <td>0</td>\n",
       "      <td>0.0</td>\n",
       "      <td>0</td>\n",
       "    </tr>\n",
       "    <tr>\n",
       "      <th>2874</th>\n",
       "      <td>2022-10-04</td>\n",
       "      <td>132.100006</td>\n",
       "      <td>132.100006</td>\n",
       "      <td>132.100006</td>\n",
       "      <td>132.100006</td>\n",
       "      <td>0</td>\n",
       "      <td>0.0</td>\n",
       "      <td>0</td>\n",
       "    </tr>\n",
       "    <tr>\n",
       "      <th>2875</th>\n",
       "      <td>2022-10-05</td>\n",
       "      <td>131.839996</td>\n",
       "      <td>131.839996</td>\n",
       "      <td>131.839996</td>\n",
       "      <td>131.839996</td>\n",
       "      <td>0</td>\n",
       "      <td>0.0</td>\n",
       "      <td>0</td>\n",
       "    </tr>\n",
       "    <tr>\n",
       "      <th>2876</th>\n",
       "      <td>2022-10-06</td>\n",
       "      <td>130.520004</td>\n",
       "      <td>130.520004</td>\n",
       "      <td>130.520004</td>\n",
       "      <td>130.520004</td>\n",
       "      <td>0</td>\n",
       "      <td>0.0</td>\n",
       "      <td>0</td>\n",
       "    </tr>\n",
       "  </tbody>\n",
       "</table>\n",
       "<p>2877 rows × 8 columns</p>\n",
       "</div>"
      ],
      "text/plain": [
       "           Date        Open        High         Low       Close  Volume  \\\n",
       "0    2011-05-04   37.664501   37.664501   37.664501   37.664501       0   \n",
       "1    2011-05-05   37.325237   37.325237   37.325237   37.325237       0   \n",
       "2    2011-05-06   37.475151   37.475151   37.475151   37.475151       0   \n",
       "3    2011-05-09   37.640835   37.640835   37.640835   37.640835       0   \n",
       "4    2011-05-10   37.948521   37.948521   37.948521   37.948521       0   \n",
       "...         ...         ...         ...         ...         ...     ...   \n",
       "2872 2022-09-30  124.930000  124.930000  124.930000  124.930000       0   \n",
       "2873 2022-10-03  128.169998  128.169998  128.169998  128.169998       0   \n",
       "2874 2022-10-04  132.100006  132.100006  132.100006  132.100006       0   \n",
       "2875 2022-10-05  131.839996  131.839996  131.839996  131.839996       0   \n",
       "2876 2022-10-06  130.520004  130.520004  130.520004  130.520004       0   \n",
       "\n",
       "      Dividends  Stock Splits  \n",
       "0           0.0             0  \n",
       "1           0.0             0  \n",
       "2           0.0             0  \n",
       "3           0.0             0  \n",
       "4           0.0             0  \n",
       "...         ...           ...  \n",
       "2872        0.0             0  \n",
       "2873        0.0             0  \n",
       "2874        0.0             0  \n",
       "2875        0.0             0  \n",
       "2876        0.0             0  \n",
       "\n",
       "[2877 rows x 8 columns]"
      ]
     },
     "execution_count": 140,
     "metadata": {},
     "output_type": "execute_result"
    }
   ],
   "source": [
    "connectYahooFinance('FXAIX')"
   ]
  },
  {
   "cell_type": "code",
   "execution_count": 141,
   "metadata": {},
   "outputs": [],
   "source": [
    "# function to get historical monthly cost per share\n",
    "def MonthlyCost (ticker):\n",
    "    # first call the connect to yahoofinance function\n",
    "    ticker_data = connectYahooFinance(ticker)\n",
    "    # filter data to only include info from the first of the month\n",
    "    return ticker_data[ticker_data['Date'].dt.is_month_start]"
   ]
  },
  {
   "cell_type": "code",
   "execution_count": 142,
   "metadata": {},
   "outputs": [
    {
     "data": {
      "text/html": [
       "<div>\n",
       "<style scoped>\n",
       "    .dataframe tbody tr th:only-of-type {\n",
       "        vertical-align: middle;\n",
       "    }\n",
       "\n",
       "    .dataframe tbody tr th {\n",
       "        vertical-align: top;\n",
       "    }\n",
       "\n",
       "    .dataframe thead th {\n",
       "        text-align: right;\n",
       "    }\n",
       "</style>\n",
       "<table border=\"1\" class=\"dataframe\">\n",
       "  <thead>\n",
       "    <tr style=\"text-align: right;\">\n",
       "      <th></th>\n",
       "      <th>Date</th>\n",
       "      <th>Open</th>\n",
       "      <th>High</th>\n",
       "      <th>Low</th>\n",
       "      <th>Close</th>\n",
       "      <th>Volume</th>\n",
       "      <th>Dividends</th>\n",
       "      <th>Stock Splits</th>\n",
       "    </tr>\n",
       "  </thead>\n",
       "  <tbody>\n",
       "    <tr>\n",
       "      <th>19</th>\n",
       "      <td>2011-06-01</td>\n",
       "      <td>36.828194</td>\n",
       "      <td>36.828194</td>\n",
       "      <td>36.828194</td>\n",
       "      <td>36.828194</td>\n",
       "      <td>0</td>\n",
       "      <td>0.000</td>\n",
       "      <td>0</td>\n",
       "    </tr>\n",
       "    <tr>\n",
       "      <th>41</th>\n",
       "      <td>2011-07-01</td>\n",
       "      <td>37.593491</td>\n",
       "      <td>37.593491</td>\n",
       "      <td>37.593491</td>\n",
       "      <td>37.593491</td>\n",
       "      <td>0</td>\n",
       "      <td>0.000</td>\n",
       "      <td>0</td>\n",
       "    </tr>\n",
       "    <tr>\n",
       "      <th>61</th>\n",
       "      <td>2011-08-01</td>\n",
       "      <td>35.968243</td>\n",
       "      <td>35.968243</td>\n",
       "      <td>35.968243</td>\n",
       "      <td>35.968243</td>\n",
       "      <td>0</td>\n",
       "      <td>0.000</td>\n",
       "      <td>0</td>\n",
       "    </tr>\n",
       "    <tr>\n",
       "      <th>84</th>\n",
       "      <td>2011-09-01</td>\n",
       "      <td>33.751289</td>\n",
       "      <td>33.751289</td>\n",
       "      <td>33.751289</td>\n",
       "      <td>33.751289</td>\n",
       "      <td>0</td>\n",
       "      <td>0.000</td>\n",
       "      <td>0</td>\n",
       "    </tr>\n",
       "    <tr>\n",
       "      <th>126</th>\n",
       "      <td>2011-11-01</td>\n",
       "      <td>34.243118</td>\n",
       "      <td>34.243118</td>\n",
       "      <td>34.243118</td>\n",
       "      <td>34.243118</td>\n",
       "      <td>0</td>\n",
       "      <td>0.000</td>\n",
       "      <td>0</td>\n",
       "    </tr>\n",
       "    <tr>\n",
       "      <th>...</th>\n",
       "      <td>...</td>\n",
       "      <td>...</td>\n",
       "      <td>...</td>\n",
       "      <td>...</td>\n",
       "      <td>...</td>\n",
       "      <td>...</td>\n",
       "      <td>...</td>\n",
       "      <td>...</td>\n",
       "    </tr>\n",
       "    <tr>\n",
       "      <th>2747</th>\n",
       "      <td>2022-04-01</td>\n",
       "      <td>157.093353</td>\n",
       "      <td>157.093353</td>\n",
       "      <td>157.093353</td>\n",
       "      <td>157.093353</td>\n",
       "      <td>0</td>\n",
       "      <td>0.000</td>\n",
       "      <td>0</td>\n",
       "    </tr>\n",
       "    <tr>\n",
       "      <th>2788</th>\n",
       "      <td>2022-06-01</td>\n",
       "      <td>142.105713</td>\n",
       "      <td>142.105713</td>\n",
       "      <td>142.105713</td>\n",
       "      <td>142.105713</td>\n",
       "      <td>0</td>\n",
       "      <td>0.000</td>\n",
       "      <td>0</td>\n",
       "    </tr>\n",
       "    <tr>\n",
       "      <th>2809</th>\n",
       "      <td>2022-07-01</td>\n",
       "      <td>132.740005</td>\n",
       "      <td>132.740005</td>\n",
       "      <td>132.740005</td>\n",
       "      <td>132.740005</td>\n",
       "      <td>0</td>\n",
       "      <td>0.577</td>\n",
       "      <td>0</td>\n",
       "    </tr>\n",
       "    <tr>\n",
       "      <th>2829</th>\n",
       "      <td>2022-08-01</td>\n",
       "      <td>143.059998</td>\n",
       "      <td>143.059998</td>\n",
       "      <td>143.059998</td>\n",
       "      <td>143.059998</td>\n",
       "      <td>0</td>\n",
       "      <td>0.000</td>\n",
       "      <td>0</td>\n",
       "    </tr>\n",
       "    <tr>\n",
       "      <th>2852</th>\n",
       "      <td>2022-09-01</td>\n",
       "      <td>138.039993</td>\n",
       "      <td>138.039993</td>\n",
       "      <td>138.039993</td>\n",
       "      <td>138.039993</td>\n",
       "      <td>0</td>\n",
       "      <td>0.000</td>\n",
       "      <td>0</td>\n",
       "    </tr>\n",
       "  </tbody>\n",
       "</table>\n",
       "<p>89 rows × 8 columns</p>\n",
       "</div>"
      ],
      "text/plain": [
       "           Date        Open        High         Low       Close  Volume  \\\n",
       "19   2011-06-01   36.828194   36.828194   36.828194   36.828194       0   \n",
       "41   2011-07-01   37.593491   37.593491   37.593491   37.593491       0   \n",
       "61   2011-08-01   35.968243   35.968243   35.968243   35.968243       0   \n",
       "84   2011-09-01   33.751289   33.751289   33.751289   33.751289       0   \n",
       "126  2011-11-01   34.243118   34.243118   34.243118   34.243118       0   \n",
       "...         ...         ...         ...         ...         ...     ...   \n",
       "2747 2022-04-01  157.093353  157.093353  157.093353  157.093353       0   \n",
       "2788 2022-06-01  142.105713  142.105713  142.105713  142.105713       0   \n",
       "2809 2022-07-01  132.740005  132.740005  132.740005  132.740005       0   \n",
       "2829 2022-08-01  143.059998  143.059998  143.059998  143.059998       0   \n",
       "2852 2022-09-01  138.039993  138.039993  138.039993  138.039993       0   \n",
       "\n",
       "      Dividends  Stock Splits  \n",
       "19        0.000             0  \n",
       "41        0.000             0  \n",
       "61        0.000             0  \n",
       "84        0.000             0  \n",
       "126       0.000             0  \n",
       "...         ...           ...  \n",
       "2747      0.000             0  \n",
       "2788      0.000             0  \n",
       "2809      0.577             0  \n",
       "2829      0.000             0  \n",
       "2852      0.000             0  \n",
       "\n",
       "[89 rows x 8 columns]"
      ]
     },
     "execution_count": 142,
     "metadata": {},
     "output_type": "execute_result"
    }
   ],
   "source": [
    "MonthlyCost('FXAIX')"
   ]
  },
  {
   "cell_type": "code",
   "execution_count": 143,
   "metadata": {},
   "outputs": [],
   "source": [
    "# function to scrape historical dividend amt per share\n",
    "def quarterlyDividends (ticker):\n",
    "    # first call the conncet to yahoofinance function\n",
    "    ticker_data = connectYahooFinance(ticker)\n",
    "    # filter data to only include info when dividends were distributed\n",
    "    return ticker_data[ticker_data['Dividends']!=0]"
   ]
  },
  {
   "cell_type": "code",
   "execution_count": 144,
   "metadata": {},
   "outputs": [
    {
     "data": {
      "text/html": [
       "<div>\n",
       "<style scoped>\n",
       "    .dataframe tbody tr th:only-of-type {\n",
       "        vertical-align: middle;\n",
       "    }\n",
       "\n",
       "    .dataframe tbody tr th {\n",
       "        vertical-align: top;\n",
       "    }\n",
       "\n",
       "    .dataframe thead th {\n",
       "        text-align: right;\n",
       "    }\n",
       "</style>\n",
       "<table border=\"1\" class=\"dataframe\">\n",
       "  <thead>\n",
       "    <tr style=\"text-align: right;\">\n",
       "      <th></th>\n",
       "      <th>Date</th>\n",
       "      <th>Open</th>\n",
       "      <th>High</th>\n",
       "      <th>Low</th>\n",
       "      <th>Close</th>\n",
       "      <th>Volume</th>\n",
       "      <th>Dividends</th>\n",
       "      <th>Stock Splits</th>\n",
       "    </tr>\n",
       "  </thead>\n",
       "  <tbody>\n",
       "    <tr>\n",
       "      <th>109</th>\n",
       "      <td>2011-10-07</td>\n",
       "      <td>32.458378</td>\n",
       "      <td>32.458378</td>\n",
       "      <td>32.458378</td>\n",
       "      <td>32.458378</td>\n",
       "      <td>0</td>\n",
       "      <td>0.223</td>\n",
       "      <td>0</td>\n",
       "    </tr>\n",
       "    <tr>\n",
       "      <th>158</th>\n",
       "      <td>2011-12-16</td>\n",
       "      <td>34.407169</td>\n",
       "      <td>34.407169</td>\n",
       "      <td>34.407169</td>\n",
       "      <td>34.407169</td>\n",
       "      <td>0</td>\n",
       "      <td>0.256</td>\n",
       "      <td>0</td>\n",
       "    </tr>\n",
       "    <tr>\n",
       "      <th>232</th>\n",
       "      <td>2012-04-04</td>\n",
       "      <td>39.716743</td>\n",
       "      <td>39.716743</td>\n",
       "      <td>39.716743</td>\n",
       "      <td>39.716743</td>\n",
       "      <td>0</td>\n",
       "      <td>0.186</td>\n",
       "      <td>0</td>\n",
       "    </tr>\n",
       "    <tr>\n",
       "      <th>296</th>\n",
       "      <td>2012-07-06</td>\n",
       "      <td>38.679874</td>\n",
       "      <td>38.679874</td>\n",
       "      <td>38.679874</td>\n",
       "      <td>38.679874</td>\n",
       "      <td>0</td>\n",
       "      <td>0.288</td>\n",
       "      <td>0</td>\n",
       "    </tr>\n",
       "    <tr>\n",
       "      <th>360</th>\n",
       "      <td>2012-10-05</td>\n",
       "      <td>41.944386</td>\n",
       "      <td>41.944386</td>\n",
       "      <td>41.944386</td>\n",
       "      <td>41.944386</td>\n",
       "      <td>0</td>\n",
       "      <td>0.282</td>\n",
       "      <td>0</td>\n",
       "    </tr>\n",
       "    <tr>\n",
       "      <th>407</th>\n",
       "      <td>2012-12-14</td>\n",
       "      <td>40.780762</td>\n",
       "      <td>40.780762</td>\n",
       "      <td>40.780762</td>\n",
       "      <td>40.780762</td>\n",
       "      <td>0</td>\n",
       "      <td>0.345</td>\n",
       "      <td>0</td>\n",
       "    </tr>\n",
       "    <tr>\n",
       "      <th>482</th>\n",
       "      <td>2013-04-05</td>\n",
       "      <td>45.095230</td>\n",
       "      <td>45.095230</td>\n",
       "      <td>45.095230</td>\n",
       "      <td>45.095230</td>\n",
       "      <td>0</td>\n",
       "      <td>0.271</td>\n",
       "      <td>0</td>\n",
       "    </tr>\n",
       "    <tr>\n",
       "      <th>545</th>\n",
       "      <td>2013-07-05</td>\n",
       "      <td>47.637569</td>\n",
       "      <td>47.637569</td>\n",
       "      <td>47.637569</td>\n",
       "      <td>47.637569</td>\n",
       "      <td>0</td>\n",
       "      <td>0.279</td>\n",
       "      <td>0</td>\n",
       "    </tr>\n",
       "    <tr>\n",
       "      <th>609</th>\n",
       "      <td>2013-10-04</td>\n",
       "      <td>49.607006</td>\n",
       "      <td>49.607006</td>\n",
       "      <td>49.607006</td>\n",
       "      <td>49.607006</td>\n",
       "      <td>0</td>\n",
       "      <td>0.309</td>\n",
       "      <td>0</td>\n",
       "    </tr>\n",
       "    <tr>\n",
       "      <th>658</th>\n",
       "      <td>2013-12-13</td>\n",
       "      <td>52.317482</td>\n",
       "      <td>52.317482</td>\n",
       "      <td>52.317482</td>\n",
       "      <td>52.317482</td>\n",
       "      <td>0</td>\n",
       "      <td>0.344</td>\n",
       "      <td>0</td>\n",
       "    </tr>\n",
       "    <tr>\n",
       "      <th>734</th>\n",
       "      <td>2014-04-04</td>\n",
       "      <td>55.292767</td>\n",
       "      <td>55.292767</td>\n",
       "      <td>55.292767</td>\n",
       "      <td>55.292767</td>\n",
       "      <td>0</td>\n",
       "      <td>0.298</td>\n",
       "      <td>0</td>\n",
       "    </tr>\n",
       "    <tr>\n",
       "      <th>796</th>\n",
       "      <td>2014-07-03</td>\n",
       "      <td>59.160519</td>\n",
       "      <td>59.160519</td>\n",
       "      <td>59.160519</td>\n",
       "      <td>59.160519</td>\n",
       "      <td>0</td>\n",
       "      <td>0.334</td>\n",
       "      <td>0</td>\n",
       "    </tr>\n",
       "    <tr>\n",
       "      <th>860</th>\n",
       "      <td>2014-10-03</td>\n",
       "      <td>58.936810</td>\n",
       "      <td>58.936810</td>\n",
       "      <td>58.936810</td>\n",
       "      <td>58.936810</td>\n",
       "      <td>0</td>\n",
       "      <td>0.330</td>\n",
       "      <td>0</td>\n",
       "    </tr>\n",
       "    <tr>\n",
       "      <th>914</th>\n",
       "      <td>2014-12-19</td>\n",
       "      <td>62.286720</td>\n",
       "      <td>62.286720</td>\n",
       "      <td>62.286720</td>\n",
       "      <td>62.286720</td>\n",
       "      <td>0</td>\n",
       "      <td>0.399</td>\n",
       "      <td>0</td>\n",
       "    </tr>\n",
       "    <tr>\n",
       "      <th>983</th>\n",
       "      <td>2015-04-01</td>\n",
       "      <td>62.307762</td>\n",
       "      <td>62.307762</td>\n",
       "      <td>62.307762</td>\n",
       "      <td>62.307762</td>\n",
       "      <td>0</td>\n",
       "      <td>0.326</td>\n",
       "      <td>0</td>\n",
       "    </tr>\n",
       "    <tr>\n",
       "      <th>1046</th>\n",
       "      <td>2015-07-01</td>\n",
       "      <td>63.191040</td>\n",
       "      <td>63.191040</td>\n",
       "      <td>63.191040</td>\n",
       "      <td>63.191040</td>\n",
       "      <td>0</td>\n",
       "      <td>0.450</td>\n",
       "      <td>0</td>\n",
       "    </tr>\n",
       "    <tr>\n",
       "      <th>1111</th>\n",
       "      <td>2015-10-02</td>\n",
       "      <td>59.663307</td>\n",
       "      <td>59.663307</td>\n",
       "      <td>59.663307</td>\n",
       "      <td>59.663307</td>\n",
       "      <td>0</td>\n",
       "      <td>0.366</td>\n",
       "      <td>0</td>\n",
       "    </tr>\n",
       "    <tr>\n",
       "      <th>1165</th>\n",
       "      <td>2015-12-18</td>\n",
       "      <td>61.602886</td>\n",
       "      <td>61.602886</td>\n",
       "      <td>61.602886</td>\n",
       "      <td>61.602886</td>\n",
       "      <td>0</td>\n",
       "      <td>0.428</td>\n",
       "      <td>0</td>\n",
       "    </tr>\n",
       "    <tr>\n",
       "      <th>1245</th>\n",
       "      <td>2016-04-15</td>\n",
       "      <td>64.379555</td>\n",
       "      <td>64.379555</td>\n",
       "      <td>64.379555</td>\n",
       "      <td>64.379555</td>\n",
       "      <td>0</td>\n",
       "      <td>0.364</td>\n",
       "      <td>0</td>\n",
       "    </tr>\n",
       "    <tr>\n",
       "      <th>1303</th>\n",
       "      <td>2016-07-08</td>\n",
       "      <td>66.248207</td>\n",
       "      <td>66.248207</td>\n",
       "      <td>66.248207</td>\n",
       "      <td>66.248207</td>\n",
       "      <td>0</td>\n",
       "      <td>0.369</td>\n",
       "      <td>0</td>\n",
       "    </tr>\n",
       "    <tr>\n",
       "      <th>1367</th>\n",
       "      <td>2016-10-07</td>\n",
       "      <td>67.341370</td>\n",
       "      <td>67.341370</td>\n",
       "      <td>67.341370</td>\n",
       "      <td>67.341370</td>\n",
       "      <td>0</td>\n",
       "      <td>0.388</td>\n",
       "      <td>0</td>\n",
       "    </tr>\n",
       "    <tr>\n",
       "      <th>1416</th>\n",
       "      <td>2016-12-16</td>\n",
       "      <td>70.888412</td>\n",
       "      <td>70.888412</td>\n",
       "      <td>70.888412</td>\n",
       "      <td>70.888412</td>\n",
       "      <td>0</td>\n",
       "      <td>0.456</td>\n",
       "      <td>0</td>\n",
       "    </tr>\n",
       "    <tr>\n",
       "      <th>1492</th>\n",
       "      <td>2017-04-07</td>\n",
       "      <td>74.420815</td>\n",
       "      <td>74.420815</td>\n",
       "      <td>74.420815</td>\n",
       "      <td>74.420815</td>\n",
       "      <td>0</td>\n",
       "      <td>0.364</td>\n",
       "      <td>0</td>\n",
       "    </tr>\n",
       "    <tr>\n",
       "      <th>1554</th>\n",
       "      <td>2017-07-07</td>\n",
       "      <td>77.014458</td>\n",
       "      <td>77.014458</td>\n",
       "      <td>77.014458</td>\n",
       "      <td>77.014458</td>\n",
       "      <td>0</td>\n",
       "      <td>0.419</td>\n",
       "      <td>0</td>\n",
       "    </tr>\n",
       "    <tr>\n",
       "      <th>1618</th>\n",
       "      <td>2017-10-06</td>\n",
       "      <td>81.353622</td>\n",
       "      <td>81.353622</td>\n",
       "      <td>81.353622</td>\n",
       "      <td>81.353622</td>\n",
       "      <td>0</td>\n",
       "      <td>0.451</td>\n",
       "      <td>0</td>\n",
       "    </tr>\n",
       "    <tr>\n",
       "      <th>1667</th>\n",
       "      <td>2017-12-15</td>\n",
       "      <td>85.707138</td>\n",
       "      <td>85.707138</td>\n",
       "      <td>85.707138</td>\n",
       "      <td>85.707138</td>\n",
       "      <td>0</td>\n",
       "      <td>0.456</td>\n",
       "      <td>0</td>\n",
       "    </tr>\n",
       "    <tr>\n",
       "      <th>1742</th>\n",
       "      <td>2018-04-06</td>\n",
       "      <td>83.873405</td>\n",
       "      <td>83.873405</td>\n",
       "      <td>83.873405</td>\n",
       "      <td>83.873405</td>\n",
       "      <td>0</td>\n",
       "      <td>0.404</td>\n",
       "      <td>0</td>\n",
       "    </tr>\n",
       "    <tr>\n",
       "      <th>1805</th>\n",
       "      <td>2018-07-06</td>\n",
       "      <td>89.314583</td>\n",
       "      <td>89.314583</td>\n",
       "      <td>89.314583</td>\n",
       "      <td>89.314583</td>\n",
       "      <td>0</td>\n",
       "      <td>0.449</td>\n",
       "      <td>0</td>\n",
       "    </tr>\n",
       "    <tr>\n",
       "      <th>1869</th>\n",
       "      <td>2018-10-05</td>\n",
       "      <td>93.823372</td>\n",
       "      <td>93.823372</td>\n",
       "      <td>93.823372</td>\n",
       "      <td>93.823372</td>\n",
       "      <td>0</td>\n",
       "      <td>0.451</td>\n",
       "      <td>0</td>\n",
       "    </tr>\n",
       "    <tr>\n",
       "      <th>1917</th>\n",
       "      <td>2018-12-14</td>\n",
       "      <td>84.872894</td>\n",
       "      <td>84.872894</td>\n",
       "      <td>84.872894</td>\n",
       "      <td>84.872894</td>\n",
       "      <td>0</td>\n",
       "      <td>0.503</td>\n",
       "      <td>0</td>\n",
       "    </tr>\n",
       "    <tr>\n",
       "      <th>1993</th>\n",
       "      <td>2019-04-05</td>\n",
       "      <td>95.015350</td>\n",
       "      <td>95.015350</td>\n",
       "      <td>95.015350</td>\n",
       "      <td>95.015350</td>\n",
       "      <td>0</td>\n",
       "      <td>0.455</td>\n",
       "      <td>0</td>\n",
       "    </tr>\n",
       "    <tr>\n",
       "      <th>2055</th>\n",
       "      <td>2019-07-05</td>\n",
       "      <td>98.721375</td>\n",
       "      <td>98.721375</td>\n",
       "      <td>98.721375</td>\n",
       "      <td>98.721375</td>\n",
       "      <td>0</td>\n",
       "      <td>0.480</td>\n",
       "      <td>0</td>\n",
       "    </tr>\n",
       "    <tr>\n",
       "      <th>2119</th>\n",
       "      <td>2019-10-04</td>\n",
       "      <td>97.941597</td>\n",
       "      <td>97.941597</td>\n",
       "      <td>97.941597</td>\n",
       "      <td>97.941597</td>\n",
       "      <td>0</td>\n",
       "      <td>0.502</td>\n",
       "      <td>0</td>\n",
       "    </tr>\n",
       "    <tr>\n",
       "      <th>2168</th>\n",
       "      <td>2019-12-13</td>\n",
       "      <td>105.551628</td>\n",
       "      <td>105.551628</td>\n",
       "      <td>105.551628</td>\n",
       "      <td>105.551628</td>\n",
       "      <td>0</td>\n",
       "      <td>0.751</td>\n",
       "      <td>0</td>\n",
       "    </tr>\n",
       "    <tr>\n",
       "      <th>2247</th>\n",
       "      <td>2020-04-08</td>\n",
       "      <td>92.181725</td>\n",
       "      <td>92.181725</td>\n",
       "      <td>92.181725</td>\n",
       "      <td>92.181725</td>\n",
       "      <td>0</td>\n",
       "      <td>0.542</td>\n",
       "      <td>0</td>\n",
       "    </tr>\n",
       "    <tr>\n",
       "      <th>2311</th>\n",
       "      <td>2020-07-10</td>\n",
       "      <td>107.297096</td>\n",
       "      <td>107.297096</td>\n",
       "      <td>107.297096</td>\n",
       "      <td>107.297096</td>\n",
       "      <td>0</td>\n",
       "      <td>0.498</td>\n",
       "      <td>0</td>\n",
       "    </tr>\n",
       "    <tr>\n",
       "      <th>2370</th>\n",
       "      <td>2020-10-02</td>\n",
       "      <td>113.223473</td>\n",
       "      <td>113.223473</td>\n",
       "      <td>113.223473</td>\n",
       "      <td>113.223473</td>\n",
       "      <td>0</td>\n",
       "      <td>0.456</td>\n",
       "      <td>0</td>\n",
       "    </tr>\n",
       "    <tr>\n",
       "      <th>2419</th>\n",
       "      <td>2020-12-11</td>\n",
       "      <td>124.276016</td>\n",
       "      <td>124.276016</td>\n",
       "      <td>124.276016</td>\n",
       "      <td>124.276016</td>\n",
       "      <td>0</td>\n",
       "      <td>0.586</td>\n",
       "      <td>0</td>\n",
       "    </tr>\n",
       "    <tr>\n",
       "      <th>2499</th>\n",
       "      <td>2021-04-09</td>\n",
       "      <td>140.758209</td>\n",
       "      <td>140.758209</td>\n",
       "      <td>140.758209</td>\n",
       "      <td>140.758209</td>\n",
       "      <td>0</td>\n",
       "      <td>0.413</td>\n",
       "      <td>0</td>\n",
       "    </tr>\n",
       "    <tr>\n",
       "      <th>2558</th>\n",
       "      <td>2021-07-02</td>\n",
       "      <td>148.862762</td>\n",
       "      <td>148.862762</td>\n",
       "      <td>148.862762</td>\n",
       "      <td>148.862762</td>\n",
       "      <td>0</td>\n",
       "      <td>0.496</td>\n",
       "      <td>0</td>\n",
       "    </tr>\n",
       "    <tr>\n",
       "      <th>2621</th>\n",
       "      <td>2021-10-01</td>\n",
       "      <td>149.506454</td>\n",
       "      <td>149.506454</td>\n",
       "      <td>149.506454</td>\n",
       "      <td>149.506454</td>\n",
       "      <td>0</td>\n",
       "      <td>0.527</td>\n",
       "      <td>0</td>\n",
       "    </tr>\n",
       "    <tr>\n",
       "      <th>2670</th>\n",
       "      <td>2021-12-10</td>\n",
       "      <td>162.136200</td>\n",
       "      <td>162.136200</td>\n",
       "      <td>162.136200</td>\n",
       "      <td>162.136200</td>\n",
       "      <td>0</td>\n",
       "      <td>0.583</td>\n",
       "      <td>0</td>\n",
       "    </tr>\n",
       "    <tr>\n",
       "      <th>2752</th>\n",
       "      <td>2022-04-08</td>\n",
       "      <td>155.148422</td>\n",
       "      <td>155.148422</td>\n",
       "      <td>155.148422</td>\n",
       "      <td>155.148422</td>\n",
       "      <td>0</td>\n",
       "      <td>0.462</td>\n",
       "      <td>0</td>\n",
       "    </tr>\n",
       "    <tr>\n",
       "      <th>2809</th>\n",
       "      <td>2022-07-01</td>\n",
       "      <td>132.740005</td>\n",
       "      <td>132.740005</td>\n",
       "      <td>132.740005</td>\n",
       "      <td>132.740005</td>\n",
       "      <td>0</td>\n",
       "      <td>0.577</td>\n",
       "      <td>0</td>\n",
       "    </tr>\n",
       "  </tbody>\n",
       "</table>\n",
       "</div>"
      ],
      "text/plain": [
       "           Date        Open        High         Low       Close  Volume  \\\n",
       "109  2011-10-07   32.458378   32.458378   32.458378   32.458378       0   \n",
       "158  2011-12-16   34.407169   34.407169   34.407169   34.407169       0   \n",
       "232  2012-04-04   39.716743   39.716743   39.716743   39.716743       0   \n",
       "296  2012-07-06   38.679874   38.679874   38.679874   38.679874       0   \n",
       "360  2012-10-05   41.944386   41.944386   41.944386   41.944386       0   \n",
       "407  2012-12-14   40.780762   40.780762   40.780762   40.780762       0   \n",
       "482  2013-04-05   45.095230   45.095230   45.095230   45.095230       0   \n",
       "545  2013-07-05   47.637569   47.637569   47.637569   47.637569       0   \n",
       "609  2013-10-04   49.607006   49.607006   49.607006   49.607006       0   \n",
       "658  2013-12-13   52.317482   52.317482   52.317482   52.317482       0   \n",
       "734  2014-04-04   55.292767   55.292767   55.292767   55.292767       0   \n",
       "796  2014-07-03   59.160519   59.160519   59.160519   59.160519       0   \n",
       "860  2014-10-03   58.936810   58.936810   58.936810   58.936810       0   \n",
       "914  2014-12-19   62.286720   62.286720   62.286720   62.286720       0   \n",
       "983  2015-04-01   62.307762   62.307762   62.307762   62.307762       0   \n",
       "1046 2015-07-01   63.191040   63.191040   63.191040   63.191040       0   \n",
       "1111 2015-10-02   59.663307   59.663307   59.663307   59.663307       0   \n",
       "1165 2015-12-18   61.602886   61.602886   61.602886   61.602886       0   \n",
       "1245 2016-04-15   64.379555   64.379555   64.379555   64.379555       0   \n",
       "1303 2016-07-08   66.248207   66.248207   66.248207   66.248207       0   \n",
       "1367 2016-10-07   67.341370   67.341370   67.341370   67.341370       0   \n",
       "1416 2016-12-16   70.888412   70.888412   70.888412   70.888412       0   \n",
       "1492 2017-04-07   74.420815   74.420815   74.420815   74.420815       0   \n",
       "1554 2017-07-07   77.014458   77.014458   77.014458   77.014458       0   \n",
       "1618 2017-10-06   81.353622   81.353622   81.353622   81.353622       0   \n",
       "1667 2017-12-15   85.707138   85.707138   85.707138   85.707138       0   \n",
       "1742 2018-04-06   83.873405   83.873405   83.873405   83.873405       0   \n",
       "1805 2018-07-06   89.314583   89.314583   89.314583   89.314583       0   \n",
       "1869 2018-10-05   93.823372   93.823372   93.823372   93.823372       0   \n",
       "1917 2018-12-14   84.872894   84.872894   84.872894   84.872894       0   \n",
       "1993 2019-04-05   95.015350   95.015350   95.015350   95.015350       0   \n",
       "2055 2019-07-05   98.721375   98.721375   98.721375   98.721375       0   \n",
       "2119 2019-10-04   97.941597   97.941597   97.941597   97.941597       0   \n",
       "2168 2019-12-13  105.551628  105.551628  105.551628  105.551628       0   \n",
       "2247 2020-04-08   92.181725   92.181725   92.181725   92.181725       0   \n",
       "2311 2020-07-10  107.297096  107.297096  107.297096  107.297096       0   \n",
       "2370 2020-10-02  113.223473  113.223473  113.223473  113.223473       0   \n",
       "2419 2020-12-11  124.276016  124.276016  124.276016  124.276016       0   \n",
       "2499 2021-04-09  140.758209  140.758209  140.758209  140.758209       0   \n",
       "2558 2021-07-02  148.862762  148.862762  148.862762  148.862762       0   \n",
       "2621 2021-10-01  149.506454  149.506454  149.506454  149.506454       0   \n",
       "2670 2021-12-10  162.136200  162.136200  162.136200  162.136200       0   \n",
       "2752 2022-04-08  155.148422  155.148422  155.148422  155.148422       0   \n",
       "2809 2022-07-01  132.740005  132.740005  132.740005  132.740005       0   \n",
       "\n",
       "      Dividends  Stock Splits  \n",
       "109       0.223             0  \n",
       "158       0.256             0  \n",
       "232       0.186             0  \n",
       "296       0.288             0  \n",
       "360       0.282             0  \n",
       "407       0.345             0  \n",
       "482       0.271             0  \n",
       "545       0.279             0  \n",
       "609       0.309             0  \n",
       "658       0.344             0  \n",
       "734       0.298             0  \n",
       "796       0.334             0  \n",
       "860       0.330             0  \n",
       "914       0.399             0  \n",
       "983       0.326             0  \n",
       "1046      0.450             0  \n",
       "1111      0.366             0  \n",
       "1165      0.428             0  \n",
       "1245      0.364             0  \n",
       "1303      0.369             0  \n",
       "1367      0.388             0  \n",
       "1416      0.456             0  \n",
       "1492      0.364             0  \n",
       "1554      0.419             0  \n",
       "1618      0.451             0  \n",
       "1667      0.456             0  \n",
       "1742      0.404             0  \n",
       "1805      0.449             0  \n",
       "1869      0.451             0  \n",
       "1917      0.503             0  \n",
       "1993      0.455             0  \n",
       "2055      0.480             0  \n",
       "2119      0.502             0  \n",
       "2168      0.751             0  \n",
       "2247      0.542             0  \n",
       "2311      0.498             0  \n",
       "2370      0.456             0  \n",
       "2419      0.586             0  \n",
       "2499      0.413             0  \n",
       "2558      0.496             0  \n",
       "2621      0.527             0  \n",
       "2670      0.583             0  \n",
       "2752      0.462             0  \n",
       "2809      0.577             0  "
      ]
     },
     "execution_count": 144,
     "metadata": {},
     "output_type": "execute_result"
    }
   ],
   "source": [
    "quarterlyDividends('FXAIX')"
   ]
  },
  {
   "cell_type": "code",
   "execution_count": 145,
   "metadata": {},
   "outputs": [],
   "source": [
    "# function to calcuate the average dividends for each ticker\n",
    "def CalculateAvgDividend(ticker):\n",
    "    dividends = pd.DataFrame(quarterlyDividends(ticker))\n",
    "    # need to get the data of the past five years\n",
    "    five_years_ago =f'{today.year-5}-01-01'\n",
    "    dividends = dividends[(dividends['Date']> five_years_ago)]\n",
    "    average_dividend = dividends['Dividends'].mean()\n",
    "    return average_dividend"
   ]
  },
  {
   "cell_type": "code",
   "execution_count": 146,
   "metadata": {},
   "outputs": [
    {
     "data": {
      "text/plain": [
       "0.4920454545454545"
      ]
     },
     "execution_count": 146,
     "metadata": {},
     "output_type": "execute_result"
    }
   ],
   "source": [
    "CalculateAvgDividend('FXAIX')"
   ]
  },
  {
   "cell_type": "code",
   "execution_count": 147,
   "metadata": {},
   "outputs": [],
   "source": [
    "# function to calc avg cost per share for each ticker\n",
    "def CalculateAvgCostPerShare(ticker):\n",
    "    cost_per_share = pd.DataFrame(MonthlyCost(ticker))\n",
    "    five_years_ago =f'{today.year-5}-01-01'\n",
    "    cost_per_share = cost_per_share[(cost_per_share['Date']>five_years_ago)]\n",
    "    average_cost = cost_per_share['Open'].mean()\n",
    "    return average_cost"
   ]
  },
  {
   "cell_type": "code",
   "execution_count": 148,
   "metadata": {},
   "outputs": [
    {
     "data": {
      "text/plain": [
       "110.53347463193147"
      ]
     },
     "execution_count": 148,
     "metadata": {},
     "output_type": "execute_result"
    }
   ],
   "source": [
    "CalculateAvgCostPerShare('FXAIX')"
   ]
  },
  {
   "cell_type": "code",
   "execution_count": 149,
   "metadata": {},
   "outputs": [],
   "source": [
    "# how much is your current initial investment worth\n",
    "def calcCurrentWorth (ticker):\n",
    "    quantity = portfolio.loc[portfolio['ticker'] == ticker]['quantity']\n",
    "    cost_per_share = pd.DataFrame(MonthlyCost(ticker))\n",
    "    cost_per_share = cost_per_share.iloc[-1:]\n",
    "    current_value = cost_per_share['Open'].values[0]*quantity.values[0]\n",
    "    return current_value"
   ]
  },
  {
   "cell_type": "code",
   "execution_count": 150,
   "metadata": {},
   "outputs": [
    {
     "data": {
      "text/plain": [
       "2320.452287139892"
      ]
     },
     "execution_count": 150,
     "metadata": {},
     "output_type": "execute_result"
    }
   ],
   "source": [
    "calcCurrentWorth('FXAIX')"
   ]
  },
  {
   "cell_type": "code",
   "execution_count": 151,
   "metadata": {},
   "outputs": [],
   "source": [
    "# calculate the annual interest rate of the individual stocks\n",
    "def interestRate(ticker):\n",
    "    # get a dataframe of the monthly costs for the specific ticker\n",
    "    cost_per_share = pd.DataFrame(MonthlyCost(ticker))\n",
    "    # get the current cost per share of the ticker\n",
    "    current_value = cost_per_share.iloc[-1:]   \n",
    "    current_value = current_value['Open'].values[0]\n",
    "    # get the cost per share five years ago\n",
    "    old_date =f'{today.year-6}-12-01'\n",
    "    old_value = cost_per_share.loc[cost_per_share['Date']==old_date]\n",
    "    old_value = old_value['Open'].values[0]\n",
    "    # calculate the compounding annual growth rate of the stock\n",
    "    CAGR = (current_value/old_value)**(1/(year-2015))-1\n",
    "    return CAGR"
   ]
  },
  {
   "cell_type": "code",
   "execution_count": 152,
   "metadata": {},
   "outputs": [
    {
     "data": {
      "text/plain": [
       "0.10473965835058996"
      ]
     },
     "execution_count": 152,
     "metadata": {},
     "output_type": "execute_result"
    }
   ],
   "source": [
    "interestRate('FXAIX')"
   ]
  },
  {
   "cell_type": "code",
   "execution_count": 153,
   "metadata": {},
   "outputs": [],
   "source": [
    "# compounding calculation\n",
    "def compoundingCalc (ticker, monthly_investment, years_future_invest):\n",
    "    # assign the variables for our calculation\n",
    "    principal = calcCurrentWorth(ticker)            # find the current worth of the stock\n",
    "    interest = interestRate(ticker)                 # find the growth rate of the stock over the past five years\n",
    "    compounding_period = 12                         # assign how often the interest will compound, 12 = monthly\n",
    "    year = years_future_invest                      # assign how lond the user plans to invest for\n",
    "    monthly_contribution = monthly_investment       # assign how much the user plans to invest in this stock per month\n",
    "    # create a dataframe to gold our results\n",
    "    results = pd.DataFrame(columns = ['Year', 'Amount'])\n",
    "    \n",
    "    # itereate through the years the user plans to invest for\n",
    "    for i in range(1,year+1):\n",
    "        Year = i\n",
    "\n",
    "        # perform the actual calculation\n",
    "        Amount = principal*np.power((1 + interest / compounding_period), compounding_period * i)+(monthly_contribution)*(np.power((1 + interest / compounding_period), compounding_period * i)-1)/(interest / compounding_period)\n",
    "        # add the results to the dataframe\n",
    "        results =  results.append({'Year': Year, 'Amount': Amount}, ignore_index = True)\n",
    "    return results"
   ]
  },
  {
   "cell_type": "code",
   "execution_count": 154,
   "metadata": {},
   "outputs": [
    {
     "data": {
      "text/html": [
       "<div>\n",
       "<style scoped>\n",
       "    .dataframe tbody tr th:only-of-type {\n",
       "        vertical-align: middle;\n",
       "    }\n",
       "\n",
       "    .dataframe tbody tr th {\n",
       "        vertical-align: top;\n",
       "    }\n",
       "\n",
       "    .dataframe thead th {\n",
       "        text-align: right;\n",
       "    }\n",
       "</style>\n",
       "<table border=\"1\" class=\"dataframe\">\n",
       "  <thead>\n",
       "    <tr style=\"text-align: right;\">\n",
       "      <th></th>\n",
       "      <th>Year</th>\n",
       "      <th>Amount</th>\n",
       "    </tr>\n",
       "  </thead>\n",
       "  <tbody>\n",
       "    <tr>\n",
       "      <th>0</th>\n",
       "      <td>1.0</td>\n",
       "      <td>15168.671149</td>\n",
       "    </tr>\n",
       "    <tr>\n",
       "      <th>1</th>\n",
       "      <td>2.0</td>\n",
       "      <td>29429.126417</td>\n",
       "    </tr>\n",
       "    <tr>\n",
       "      <th>2</th>\n",
       "      <td>3.0</td>\n",
       "      <td>45257.046740</td>\n",
       "    </tr>\n",
       "    <tr>\n",
       "      <th>3</th>\n",
       "      <td>4.0</td>\n",
       "      <td>62824.723022</td>\n",
       "    </tr>\n",
       "    <tr>\n",
       "      <th>4</th>\n",
       "      <td>5.0</td>\n",
       "      <td>82323.383845</td>\n",
       "    </tr>\n",
       "    <tr>\n",
       "      <th>5</th>\n",
       "      <td>6.0</td>\n",
       "      <td>103965.277048</td>\n",
       "    </tr>\n",
       "    <tr>\n",
       "      <th>6</th>\n",
       "      <td>7.0</td>\n",
       "      <td>127985.980092</td>\n",
       "    </tr>\n",
       "    <tr>\n",
       "      <th>7</th>\n",
       "      <td>8.0</td>\n",
       "      <td>154646.964385</td>\n",
       "    </tr>\n",
       "  </tbody>\n",
       "</table>\n",
       "</div>"
      ],
      "text/plain": [
       "   Year         Amount\n",
       "0   1.0   15168.671149\n",
       "1   2.0   29429.126417\n",
       "2   3.0   45257.046740\n",
       "3   4.0   62824.723022\n",
       "4   5.0   82323.383845\n",
       "5   6.0  103965.277048\n",
       "6   7.0  127985.980092\n",
       "7   8.0  154646.964385"
      ]
     },
     "execution_count": 154,
     "metadata": {},
     "output_type": "execute_result"
    }
   ],
   "source": [
    "compoundingCalc('FXAIX',1000,8)"
   ]
  },
  {
   "cell_type": "code",
   "execution_count": 155,
   "metadata": {},
   "outputs": [],
   "source": [
    "# compounding calculation with dividends\n",
    "def compoundingCalcDividends (ticker, monthly_investment, years_future_invest):\n",
    "        # create a dataframe to gold our results\n",
    "        results = pd.DataFrame(columns = ['Month', 'Amount'])\n",
    "\n",
    "        principal = calcCurrentWorth(ticker)                        # find the current worth of the stock\n",
    "        interest = interestRate(ticker)                             # find the growth rate of the stock over the past five years\n",
    "        compounding_period = 12                                     # assign how often the interest will compound, 12 = monthly\n",
    "        months = years_future_invest*12                             # assign how lond the user plans to invest for\n",
    "        monthly_contribution = monthly_investment                   # assign how much the user plans to invest in this stock per month\n",
    "        dividends = CalculateAvgDividend(ticker)                    # calculate the average dividends returned\n",
    "        dividends_compounding = 3                                   # the dividends compound quarterly\n",
    "        avg_cost_per_share = CalculateAvgCostPerShare(ticker)       # calculate the average cost per share of the stock\n",
    "        results =  results.append({'Month': 1, 'Amount': principal}, ignore_index = True)\n",
    "        for i in range(2,months+1):\n",
    "                Month = i\n",
    "                amt = results.iloc[-1:]\n",
    "                amt = amt['Amount'].values[0]\n",
    "                if (i%3)==0:\n",
    "                        total = amt+(amt*(interest/12))+monthly_contribution+(amt/avg_cost_per_share)*dividends\n",
    "                        results =  results.append({'Month': Month, 'Amount': total}, ignore_index = True)\n",
    "                else:\n",
    "                        total = amt+(amt*(interest/12))+monthly_contribution\n",
    "                        results =  results.append({'Month': Month, 'Amount': total}, ignore_index = True)\n",
    "        return results"
   ]
  },
  {
   "cell_type": "code",
   "execution_count": 156,
   "metadata": {},
   "outputs": [
    {
     "data": {
      "text/html": [
       "<div>\n",
       "<style scoped>\n",
       "    .dataframe tbody tr th:only-of-type {\n",
       "        vertical-align: middle;\n",
       "    }\n",
       "\n",
       "    .dataframe tbody tr th {\n",
       "        vertical-align: top;\n",
       "    }\n",
       "\n",
       "    .dataframe thead th {\n",
       "        text-align: right;\n",
       "    }\n",
       "</style>\n",
       "<table border=\"1\" class=\"dataframe\">\n",
       "  <thead>\n",
       "    <tr style=\"text-align: right;\">\n",
       "      <th></th>\n",
       "      <th>Month</th>\n",
       "      <th>Amount</th>\n",
       "    </tr>\n",
       "  </thead>\n",
       "  <tbody>\n",
       "    <tr>\n",
       "      <th>0</th>\n",
       "      <td>1.0</td>\n",
       "      <td>2320.452287</td>\n",
       "    </tr>\n",
       "    <tr>\n",
       "      <th>1</th>\n",
       "      <td>2.0</td>\n",
       "      <td>3340.705899</td>\n",
       "    </tr>\n",
       "    <tr>\n",
       "      <th>2</th>\n",
       "      <td>3.0</td>\n",
       "      <td>4384.735918</td>\n",
       "    </tr>\n",
       "    <tr>\n",
       "      <th>3</th>\n",
       "      <td>4.0</td>\n",
       "      <td>5423.007223</td>\n",
       "    </tr>\n",
       "    <tr>\n",
       "      <th>4</th>\n",
       "      <td>5.0</td>\n",
       "      <td>6470.340876</td>\n",
       "    </tr>\n",
       "    <tr>\n",
       "      <th>...</th>\n",
       "      <td>...</td>\n",
       "      <td>...</td>\n",
       "    </tr>\n",
       "    <tr>\n",
       "      <th>91</th>\n",
       "      <td>92.0</td>\n",
       "      <td>154531.714270</td>\n",
       "    </tr>\n",
       "    <tr>\n",
       "      <th>92</th>\n",
       "      <td>93.0</td>\n",
       "      <td>157568.419843</td>\n",
       "    </tr>\n",
       "    <tr>\n",
       "      <th>93</th>\n",
       "      <td>94.0</td>\n",
       "      <td>159943.724819</td>\n",
       "    </tr>\n",
       "    <tr>\n",
       "      <th>94</th>\n",
       "      <td>95.0</td>\n",
       "      <td>162339.762176</td>\n",
       "    </tr>\n",
       "    <tr>\n",
       "      <th>95</th>\n",
       "      <td>96.0</td>\n",
       "      <td>165479.376688</td>\n",
       "    </tr>\n",
       "  </tbody>\n",
       "</table>\n",
       "<p>96 rows × 2 columns</p>\n",
       "</div>"
      ],
      "text/plain": [
       "    Month         Amount\n",
       "0     1.0    2320.452287\n",
       "1     2.0    3340.705899\n",
       "2     3.0    4384.735918\n",
       "3     4.0    5423.007223\n",
       "4     5.0    6470.340876\n",
       "..    ...            ...\n",
       "91   92.0  154531.714270\n",
       "92   93.0  157568.419843\n",
       "93   94.0  159943.724819\n",
       "94   95.0  162339.762176\n",
       "95   96.0  165479.376688\n",
       "\n",
       "[96 rows x 2 columns]"
      ]
     },
     "execution_count": 156,
     "metadata": {},
     "output_type": "execute_result"
    }
   ],
   "source": [
    "compoundingCalcDividends('FXAIX',1000,8)"
   ]
  },
  {
   "cell_type": "code",
   "execution_count": 157,
   "metadata": {},
   "outputs": [],
   "source": [
    "\n",
    "def totalInvestmentPrediction (Portfolio,Monthly_investments,Years_to_invest):\n",
    "    results = pd.DataFrame(columns = ['Month', 'Amount','Ticker'])\n",
    "\n",
    "    for ticker, percent in zip(Portfolio['ticker'], Portfolio['future_percents']):\n",
    "\n",
    "        principal = calcCurrentWorth(ticker)                        # find the current worth of the stock\n",
    "        interest = interestRate(ticker)                             # find the growth rate of the stock over the past five years\n",
    "        compounding_period = 12                                     # assign how often the interest will compound, 12 = monthly\n",
    "        months = Years_to_invest*compounding_period                                     # assign how lond the user plans to invest for\n",
    "        monthly_contribution = percent*Monthly_investments          # assign how much the user plans to invest in this stock per month\n",
    "        dividends = CalculateAvgDividend(ticker)                    # calculate the average dividends returned\n",
    "        dividends_compounding = 3                                   # the dividends compound quarterly\n",
    "        avg_cost_per_share = CalculateAvgCostPerShare(ticker)       # calculate the average cost per share of the stock\n",
    "        results =  results.append({'Month': 1, 'Amount': principal, 'Ticker':ticker}, ignore_index = True)\n",
    "\n",
    "        for i in range(2,months+1):\n",
    "            Month = i\n",
    "            Ticker = ticker\n",
    "            amt = results.iloc[-1:]\n",
    "            amt = amt['Amount'].values[0]\n",
    "            if (i%dividends_compounding)==0:\n",
    "                    total = amt+(amt*(interest/12))+monthly_contribution+(amt/avg_cost_per_share)*dividends\n",
    "                    results =  results.append({'Month': Month, 'Amount': total, 'Ticker':Ticker}, ignore_index = True)\n",
    "            else:\n",
    "                    total = amt+(amt*(interest/12))+monthly_contribution\n",
    "                    results =  results.append({'Month': Month, 'Amount': total, 'Ticker':Ticker}, ignore_index = True)\n",
    "    return results"
   ]
  },
  {
   "cell_type": "code",
   "execution_count": 158,
   "metadata": {},
   "outputs": [
    {
     "data": {
      "text/html": [
       "<div>\n",
       "<style scoped>\n",
       "    .dataframe tbody tr th:only-of-type {\n",
       "        vertical-align: middle;\n",
       "    }\n",
       "\n",
       "    .dataframe tbody tr th {\n",
       "        vertical-align: top;\n",
       "    }\n",
       "\n",
       "    .dataframe thead th {\n",
       "        text-align: right;\n",
       "    }\n",
       "</style>\n",
       "<table border=\"1\" class=\"dataframe\">\n",
       "  <thead>\n",
       "    <tr style=\"text-align: right;\">\n",
       "      <th></th>\n",
       "      <th>Month</th>\n",
       "      <th>Amount</th>\n",
       "      <th>Ticker</th>\n",
       "    </tr>\n",
       "  </thead>\n",
       "  <tbody>\n",
       "    <tr>\n",
       "      <th>0</th>\n",
       "      <td>1</td>\n",
       "      <td>2320.452287</td>\n",
       "      <td>FXAIX</td>\n",
       "    </tr>\n",
       "    <tr>\n",
       "      <th>1</th>\n",
       "      <td>2</td>\n",
       "      <td>4140.705902</td>\n",
       "      <td>FXAIX</td>\n",
       "    </tr>\n",
       "    <tr>\n",
       "      <th>2</th>\n",
       "      <td>3</td>\n",
       "      <td>5995.279811</td>\n",
       "      <td>FXAIX</td>\n",
       "    </tr>\n",
       "    <tr>\n",
       "      <th>3</th>\n",
       "      <td>4</td>\n",
       "      <td>7847.608441</td>\n",
       "      <td>FXAIX</td>\n",
       "    </tr>\n",
       "    <tr>\n",
       "      <th>4</th>\n",
       "      <td>5</td>\n",
       "      <td>9716.104760</td>\n",
       "      <td>FXAIX</td>\n",
       "    </tr>\n",
       "    <tr>\n",
       "      <th>...</th>\n",
       "      <td>...</td>\n",
       "      <td>...</td>\n",
       "      <td>...</td>\n",
       "    </tr>\n",
       "    <tr>\n",
       "      <th>751</th>\n",
       "      <td>104</td>\n",
       "      <td>42226.443827</td>\n",
       "      <td>FSRNX</td>\n",
       "    </tr>\n",
       "    <tr>\n",
       "      <th>752</th>\n",
       "      <td>105</td>\n",
       "      <td>42959.406381</td>\n",
       "      <td>FSRNX</td>\n",
       "    </tr>\n",
       "    <tr>\n",
       "      <th>753</th>\n",
       "      <td>106</td>\n",
       "      <td>43403.651239</td>\n",
       "      <td>FSRNX</td>\n",
       "    </tr>\n",
       "    <tr>\n",
       "      <th>754</th>\n",
       "      <td>107</td>\n",
       "      <td>43849.387738</td>\n",
       "      <td>FSRNX</td>\n",
       "    </tr>\n",
       "    <tr>\n",
       "      <th>755</th>\n",
       "      <td>108</td>\n",
       "      <td>44598.990906</td>\n",
       "      <td>FSRNX</td>\n",
       "    </tr>\n",
       "  </tbody>\n",
       "</table>\n",
       "<p>756 rows × 3 columns</p>\n",
       "</div>"
      ],
      "text/plain": [
       "    Month        Amount Ticker\n",
       "0       1   2320.452287  FXAIX\n",
       "1       2   4140.705902  FXAIX\n",
       "2       3   5995.279811  FXAIX\n",
       "3       4   7847.608441  FXAIX\n",
       "4       5   9716.104760  FXAIX\n",
       "..    ...           ...    ...\n",
       "751   104  42226.443827  FSRNX\n",
       "752   105  42959.406381  FSRNX\n",
       "753   106  43403.651239  FSRNX\n",
       "754   107  43849.387738  FSRNX\n",
       "755   108  44598.990906  FSRNX\n",
       "\n",
       "[756 rows x 3 columns]"
      ]
     },
     "execution_count": 158,
     "metadata": {},
     "output_type": "execute_result"
    }
   ],
   "source": [
    "totalInvestmentPrediction(portfolio,monthly_investments,years_to_invest)"
   ]
  },
  {
   "cell_type": "code",
   "execution_count": 159,
   "metadata": {},
   "outputs": [],
   "source": [
    "# now we need to add up all of the rows that have the same years\n",
    "def amountPeryear(Portfolio,Monthly_investments,Years_to_invest):\n",
    "    total_portfolio = totalInvestmentPrediction(Portfolio,Monthly_investments,Years_to_invest)\n",
    "    years = Years_to_invest  \n",
    "    sum_portfolio = pd.DataFrame(columns = ['Year', 'Amount'])\n",
    "    for i in range(1,years+1):\n",
    "        per_year = total_portfolio[total_portfolio['Month']==i*12]['Amount'].sum()\n",
    "        sum_portfolio =  sum_portfolio.append({'Year': i, 'Amount': per_year}, ignore_index = True)\n",
    "        \n",
    "    return sum_portfolio\n",
    "    "
   ]
  },
  {
   "cell_type": "code",
   "execution_count": 160,
   "metadata": {},
   "outputs": [
    {
     "data": {
      "text/html": [
       "<div>\n",
       "<style scoped>\n",
       "    .dataframe tbody tr th:only-of-type {\n",
       "        vertical-align: middle;\n",
       "    }\n",
       "\n",
       "    .dataframe tbody tr th {\n",
       "        vertical-align: top;\n",
       "    }\n",
       "\n",
       "    .dataframe thead th {\n",
       "        text-align: right;\n",
       "    }\n",
       "</style>\n",
       "<table border=\"1\" class=\"dataframe\">\n",
       "  <thead>\n",
       "    <tr style=\"text-align: right;\">\n",
       "      <th></th>\n",
       "      <th>Year</th>\n",
       "      <th>Amount</th>\n",
       "    </tr>\n",
       "  </thead>\n",
       "  <tbody>\n",
       "    <tr>\n",
       "      <th>0</th>\n",
       "      <td>1.0</td>\n",
       "      <td>7.942273e+04</td>\n",
       "    </tr>\n",
       "    <tr>\n",
       "      <th>1</th>\n",
       "      <td>2.0</td>\n",
       "      <td>1.626649e+05</td>\n",
       "    </tr>\n",
       "    <tr>\n",
       "      <th>2</th>\n",
       "      <td>3.0</td>\n",
       "      <td>2.543006e+05</td>\n",
       "    </tr>\n",
       "    <tr>\n",
       "      <th>3</th>\n",
       "      <td>4.0</td>\n",
       "      <td>3.552581e+05</td>\n",
       "    </tr>\n",
       "    <tr>\n",
       "      <th>4</th>\n",
       "      <td>5.0</td>\n",
       "      <td>4.665721e+05</td>\n",
       "    </tr>\n",
       "    <tr>\n",
       "      <th>5</th>\n",
       "      <td>6.0</td>\n",
       "      <td>5.893968e+05</td>\n",
       "    </tr>\n",
       "    <tr>\n",
       "      <th>6</th>\n",
       "      <td>7.0</td>\n",
       "      <td>7.250192e+05</td>\n",
       "    </tr>\n",
       "    <tr>\n",
       "      <th>7</th>\n",
       "      <td>8.0</td>\n",
       "      <td>8.748754e+05</td>\n",
       "    </tr>\n",
       "    <tr>\n",
       "      <th>8</th>\n",
       "      <td>9.0</td>\n",
       "      <td>1.040568e+06</td>\n",
       "    </tr>\n",
       "  </tbody>\n",
       "</table>\n",
       "</div>"
      ],
      "text/plain": [
       "   Year        Amount\n",
       "0   1.0  7.942273e+04\n",
       "1   2.0  1.626649e+05\n",
       "2   3.0  2.543006e+05\n",
       "3   4.0  3.552581e+05\n",
       "4   5.0  4.665721e+05\n",
       "5   6.0  5.893968e+05\n",
       "6   7.0  7.250192e+05\n",
       "7   8.0  8.748754e+05\n",
       "8   9.0  1.040568e+06"
      ]
     },
     "execution_count": 160,
     "metadata": {},
     "output_type": "execute_result"
    }
   ],
   "source": [
    "amountPeryear(portfolio,monthly_investments,years_to_invest)"
   ]
  },
  {
   "cell_type": "code",
   "execution_count": 161,
   "metadata": {},
   "outputs": [
    {
     "data": {
      "application/vnd.plotly.v1+json": {
       "config": {
        "plotlyServerURL": "https://plot.ly"
       },
       "data": [
        {
         "marker": {
          "color": "green"
         },
         "mode": "lines",
         "type": "scatter",
         "x": [
          1,
          2,
          3,
          4,
          5,
          6,
          7,
          8,
          9
         ],
         "y": [
          79422.72714354825,
          162664.93089119843,
          254300.61973619045,
          355258.07500867255,
          466572.1587579337,
          589396.8478140779,
          725019.2696173011,
          874875.4224822616,
          1040567.7854563288
         ]
        }
       ],
       "layout": {
        "template": {
         "data": {
          "bar": [
           {
            "error_x": {
             "color": "#2a3f5f"
            },
            "error_y": {
             "color": "#2a3f5f"
            },
            "marker": {
             "line": {
              "color": "#E5ECF6",
              "width": 0.5
             },
             "pattern": {
              "fillmode": "overlay",
              "size": 10,
              "solidity": 0.2
             }
            },
            "type": "bar"
           }
          ],
          "barpolar": [
           {
            "marker": {
             "line": {
              "color": "#E5ECF6",
              "width": 0.5
             },
             "pattern": {
              "fillmode": "overlay",
              "size": 10,
              "solidity": 0.2
             }
            },
            "type": "barpolar"
           }
          ],
          "carpet": [
           {
            "aaxis": {
             "endlinecolor": "#2a3f5f",
             "gridcolor": "white",
             "linecolor": "white",
             "minorgridcolor": "white",
             "startlinecolor": "#2a3f5f"
            },
            "baxis": {
             "endlinecolor": "#2a3f5f",
             "gridcolor": "white",
             "linecolor": "white",
             "minorgridcolor": "white",
             "startlinecolor": "#2a3f5f"
            },
            "type": "carpet"
           }
          ],
          "choropleth": [
           {
            "colorbar": {
             "outlinewidth": 0,
             "ticks": ""
            },
            "type": "choropleth"
           }
          ],
          "contour": [
           {
            "colorbar": {
             "outlinewidth": 0,
             "ticks": ""
            },
            "colorscale": [
             [
              0,
              "#0d0887"
             ],
             [
              0.1111111111111111,
              "#46039f"
             ],
             [
              0.2222222222222222,
              "#7201a8"
             ],
             [
              0.3333333333333333,
              "#9c179e"
             ],
             [
              0.4444444444444444,
              "#bd3786"
             ],
             [
              0.5555555555555556,
              "#d8576b"
             ],
             [
              0.6666666666666666,
              "#ed7953"
             ],
             [
              0.7777777777777778,
              "#fb9f3a"
             ],
             [
              0.8888888888888888,
              "#fdca26"
             ],
             [
              1,
              "#f0f921"
             ]
            ],
            "type": "contour"
           }
          ],
          "contourcarpet": [
           {
            "colorbar": {
             "outlinewidth": 0,
             "ticks": ""
            },
            "type": "contourcarpet"
           }
          ],
          "heatmap": [
           {
            "colorbar": {
             "outlinewidth": 0,
             "ticks": ""
            },
            "colorscale": [
             [
              0,
              "#0d0887"
             ],
             [
              0.1111111111111111,
              "#46039f"
             ],
             [
              0.2222222222222222,
              "#7201a8"
             ],
             [
              0.3333333333333333,
              "#9c179e"
             ],
             [
              0.4444444444444444,
              "#bd3786"
             ],
             [
              0.5555555555555556,
              "#d8576b"
             ],
             [
              0.6666666666666666,
              "#ed7953"
             ],
             [
              0.7777777777777778,
              "#fb9f3a"
             ],
             [
              0.8888888888888888,
              "#fdca26"
             ],
             [
              1,
              "#f0f921"
             ]
            ],
            "type": "heatmap"
           }
          ],
          "heatmapgl": [
           {
            "colorbar": {
             "outlinewidth": 0,
             "ticks": ""
            },
            "colorscale": [
             [
              0,
              "#0d0887"
             ],
             [
              0.1111111111111111,
              "#46039f"
             ],
             [
              0.2222222222222222,
              "#7201a8"
             ],
             [
              0.3333333333333333,
              "#9c179e"
             ],
             [
              0.4444444444444444,
              "#bd3786"
             ],
             [
              0.5555555555555556,
              "#d8576b"
             ],
             [
              0.6666666666666666,
              "#ed7953"
             ],
             [
              0.7777777777777778,
              "#fb9f3a"
             ],
             [
              0.8888888888888888,
              "#fdca26"
             ],
             [
              1,
              "#f0f921"
             ]
            ],
            "type": "heatmapgl"
           }
          ],
          "histogram": [
           {
            "marker": {
             "pattern": {
              "fillmode": "overlay",
              "size": 10,
              "solidity": 0.2
             }
            },
            "type": "histogram"
           }
          ],
          "histogram2d": [
           {
            "colorbar": {
             "outlinewidth": 0,
             "ticks": ""
            },
            "colorscale": [
             [
              0,
              "#0d0887"
             ],
             [
              0.1111111111111111,
              "#46039f"
             ],
             [
              0.2222222222222222,
              "#7201a8"
             ],
             [
              0.3333333333333333,
              "#9c179e"
             ],
             [
              0.4444444444444444,
              "#bd3786"
             ],
             [
              0.5555555555555556,
              "#d8576b"
             ],
             [
              0.6666666666666666,
              "#ed7953"
             ],
             [
              0.7777777777777778,
              "#fb9f3a"
             ],
             [
              0.8888888888888888,
              "#fdca26"
             ],
             [
              1,
              "#f0f921"
             ]
            ],
            "type": "histogram2d"
           }
          ],
          "histogram2dcontour": [
           {
            "colorbar": {
             "outlinewidth": 0,
             "ticks": ""
            },
            "colorscale": [
             [
              0,
              "#0d0887"
             ],
             [
              0.1111111111111111,
              "#46039f"
             ],
             [
              0.2222222222222222,
              "#7201a8"
             ],
             [
              0.3333333333333333,
              "#9c179e"
             ],
             [
              0.4444444444444444,
              "#bd3786"
             ],
             [
              0.5555555555555556,
              "#d8576b"
             ],
             [
              0.6666666666666666,
              "#ed7953"
             ],
             [
              0.7777777777777778,
              "#fb9f3a"
             ],
             [
              0.8888888888888888,
              "#fdca26"
             ],
             [
              1,
              "#f0f921"
             ]
            ],
            "type": "histogram2dcontour"
           }
          ],
          "mesh3d": [
           {
            "colorbar": {
             "outlinewidth": 0,
             "ticks": ""
            },
            "type": "mesh3d"
           }
          ],
          "parcoords": [
           {
            "line": {
             "colorbar": {
              "outlinewidth": 0,
              "ticks": ""
             }
            },
            "type": "parcoords"
           }
          ],
          "pie": [
           {
            "automargin": true,
            "type": "pie"
           }
          ],
          "scatter": [
           {
            "fillpattern": {
             "fillmode": "overlay",
             "size": 10,
             "solidity": 0.2
            },
            "type": "scatter"
           }
          ],
          "scatter3d": [
           {
            "line": {
             "colorbar": {
              "outlinewidth": 0,
              "ticks": ""
             }
            },
            "marker": {
             "colorbar": {
              "outlinewidth": 0,
              "ticks": ""
             }
            },
            "type": "scatter3d"
           }
          ],
          "scattercarpet": [
           {
            "marker": {
             "colorbar": {
              "outlinewidth": 0,
              "ticks": ""
             }
            },
            "type": "scattercarpet"
           }
          ],
          "scattergeo": [
           {
            "marker": {
             "colorbar": {
              "outlinewidth": 0,
              "ticks": ""
             }
            },
            "type": "scattergeo"
           }
          ],
          "scattergl": [
           {
            "marker": {
             "colorbar": {
              "outlinewidth": 0,
              "ticks": ""
             }
            },
            "type": "scattergl"
           }
          ],
          "scattermapbox": [
           {
            "marker": {
             "colorbar": {
              "outlinewidth": 0,
              "ticks": ""
             }
            },
            "type": "scattermapbox"
           }
          ],
          "scatterpolar": [
           {
            "marker": {
             "colorbar": {
              "outlinewidth": 0,
              "ticks": ""
             }
            },
            "type": "scatterpolar"
           }
          ],
          "scatterpolargl": [
           {
            "marker": {
             "colorbar": {
              "outlinewidth": 0,
              "ticks": ""
             }
            },
            "type": "scatterpolargl"
           }
          ],
          "scatterternary": [
           {
            "marker": {
             "colorbar": {
              "outlinewidth": 0,
              "ticks": ""
             }
            },
            "type": "scatterternary"
           }
          ],
          "surface": [
           {
            "colorbar": {
             "outlinewidth": 0,
             "ticks": ""
            },
            "colorscale": [
             [
              0,
              "#0d0887"
             ],
             [
              0.1111111111111111,
              "#46039f"
             ],
             [
              0.2222222222222222,
              "#7201a8"
             ],
             [
              0.3333333333333333,
              "#9c179e"
             ],
             [
              0.4444444444444444,
              "#bd3786"
             ],
             [
              0.5555555555555556,
              "#d8576b"
             ],
             [
              0.6666666666666666,
              "#ed7953"
             ],
             [
              0.7777777777777778,
              "#fb9f3a"
             ],
             [
              0.8888888888888888,
              "#fdca26"
             ],
             [
              1,
              "#f0f921"
             ]
            ],
            "type": "surface"
           }
          ],
          "table": [
           {
            "cells": {
             "fill": {
              "color": "#EBF0F8"
             },
             "line": {
              "color": "white"
             }
            },
            "header": {
             "fill": {
              "color": "#C8D4E3"
             },
             "line": {
              "color": "white"
             }
            },
            "type": "table"
           }
          ]
         },
         "layout": {
          "annotationdefaults": {
           "arrowcolor": "#2a3f5f",
           "arrowhead": 0,
           "arrowwidth": 1
          },
          "autotypenumbers": "strict",
          "coloraxis": {
           "colorbar": {
            "outlinewidth": 0,
            "ticks": ""
           }
          },
          "colorscale": {
           "diverging": [
            [
             0,
             "#8e0152"
            ],
            [
             0.1,
             "#c51b7d"
            ],
            [
             0.2,
             "#de77ae"
            ],
            [
             0.3,
             "#f1b6da"
            ],
            [
             0.4,
             "#fde0ef"
            ],
            [
             0.5,
             "#f7f7f7"
            ],
            [
             0.6,
             "#e6f5d0"
            ],
            [
             0.7,
             "#b8e186"
            ],
            [
             0.8,
             "#7fbc41"
            ],
            [
             0.9,
             "#4d9221"
            ],
            [
             1,
             "#276419"
            ]
           ],
           "sequential": [
            [
             0,
             "#0d0887"
            ],
            [
             0.1111111111111111,
             "#46039f"
            ],
            [
             0.2222222222222222,
             "#7201a8"
            ],
            [
             0.3333333333333333,
             "#9c179e"
            ],
            [
             0.4444444444444444,
             "#bd3786"
            ],
            [
             0.5555555555555556,
             "#d8576b"
            ],
            [
             0.6666666666666666,
             "#ed7953"
            ],
            [
             0.7777777777777778,
             "#fb9f3a"
            ],
            [
             0.8888888888888888,
             "#fdca26"
            ],
            [
             1,
             "#f0f921"
            ]
           ],
           "sequentialminus": [
            [
             0,
             "#0d0887"
            ],
            [
             0.1111111111111111,
             "#46039f"
            ],
            [
             0.2222222222222222,
             "#7201a8"
            ],
            [
             0.3333333333333333,
             "#9c179e"
            ],
            [
             0.4444444444444444,
             "#bd3786"
            ],
            [
             0.5555555555555556,
             "#d8576b"
            ],
            [
             0.6666666666666666,
             "#ed7953"
            ],
            [
             0.7777777777777778,
             "#fb9f3a"
            ],
            [
             0.8888888888888888,
             "#fdca26"
            ],
            [
             1,
             "#f0f921"
            ]
           ]
          },
          "colorway": [
           "#636efa",
           "#EF553B",
           "#00cc96",
           "#ab63fa",
           "#FFA15A",
           "#19d3f3",
           "#FF6692",
           "#B6E880",
           "#FF97FF",
           "#FECB52"
          ],
          "font": {
           "color": "#2a3f5f"
          },
          "geo": {
           "bgcolor": "white",
           "lakecolor": "white",
           "landcolor": "#E5ECF6",
           "showlakes": true,
           "showland": true,
           "subunitcolor": "white"
          },
          "hoverlabel": {
           "align": "left"
          },
          "hovermode": "closest",
          "mapbox": {
           "style": "light"
          },
          "paper_bgcolor": "white",
          "plot_bgcolor": "#E5ECF6",
          "polar": {
           "angularaxis": {
            "gridcolor": "white",
            "linecolor": "white",
            "ticks": ""
           },
           "bgcolor": "#E5ECF6",
           "radialaxis": {
            "gridcolor": "white",
            "linecolor": "white",
            "ticks": ""
           }
          },
          "scene": {
           "xaxis": {
            "backgroundcolor": "#E5ECF6",
            "gridcolor": "white",
            "gridwidth": 2,
            "linecolor": "white",
            "showbackground": true,
            "ticks": "",
            "zerolinecolor": "white"
           },
           "yaxis": {
            "backgroundcolor": "#E5ECF6",
            "gridcolor": "white",
            "gridwidth": 2,
            "linecolor": "white",
            "showbackground": true,
            "ticks": "",
            "zerolinecolor": "white"
           },
           "zaxis": {
            "backgroundcolor": "#E5ECF6",
            "gridcolor": "white",
            "gridwidth": 2,
            "linecolor": "white",
            "showbackground": true,
            "ticks": "",
            "zerolinecolor": "white"
           }
          },
          "shapedefaults": {
           "line": {
            "color": "#2a3f5f"
           }
          },
          "ternary": {
           "aaxis": {
            "gridcolor": "white",
            "linecolor": "white",
            "ticks": ""
           },
           "baxis": {
            "gridcolor": "white",
            "linecolor": "white",
            "ticks": ""
           },
           "bgcolor": "#E5ECF6",
           "caxis": {
            "gridcolor": "white",
            "linecolor": "white",
            "ticks": ""
           }
          },
          "title": {
           "x": 0.05
          },
          "xaxis": {
           "automargin": true,
           "gridcolor": "white",
           "linecolor": "white",
           "ticks": "",
           "title": {
            "standoff": 15
           },
           "zerolinecolor": "white",
           "zerolinewidth": 2
          },
          "yaxis": {
           "automargin": true,
           "gridcolor": "white",
           "linecolor": "white",
           "ticks": "",
           "title": {
            "standoff": 15
           },
           "zerolinecolor": "white",
           "zerolinewidth": 2
          }
         }
        }
       }
      }
     },
     "metadata": {},
     "output_type": "display_data"
    }
   ],
   "source": [
    "# graph the total data\n",
    "total_investment = amountPeryear(portfolio,monthly_investments,years_to_invest)\n",
    "fig = go.Figure(data=go.Scatter(x=total_investment['Year'], y=total_investment['Amount'], mode='lines', marker=dict(color='green')))\n",
    "fig.show()"
   ]
  },
  {
   "cell_type": "code",
   "execution_count": null,
   "metadata": {},
   "outputs": [],
   "source": []
  }
 ],
 "metadata": {
  "kernelspec": {
   "display_name": "Python 3.10.1 64-bit",
   "language": "python",
   "name": "python3"
  },
  "language_info": {
   "codemirror_mode": {
    "name": "ipython",
    "version": 3
   },
   "file_extension": ".py",
   "mimetype": "text/x-python",
   "name": "python",
   "nbconvert_exporter": "python",
   "pygments_lexer": "ipython3",
   "version": "3.10.1"
  },
  "orig_nbformat": 4,
  "vscode": {
   "interpreter": {
    "hash": "d404347084406b8c6d005244449b7dd5f725b5df89987d39dd27b81ada4d10f3"
   }
  }
 },
 "nbformat": 4,
 "nbformat_minor": 2
}

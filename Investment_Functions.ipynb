{
 "cells": [
  {
   "cell_type": "markdown",
   "metadata": {},
   "source": [
    "# Individual Stock Data Collection and Wrangling"
   ]
  },
  {
   "cell_type": "code",
   "execution_count": 356,
   "metadata": {},
   "outputs": [],
   "source": [
    "# libraries\n",
    "import pandas as pd\n",
    "import yfinance as yf\n",
    "from datetime import date\n",
    "import numpy as np\n",
    "import plotly.express as px\n",
    "import plotly.graph_objects as go\n",
    "import functools"
   ]
  },
  {
   "cell_type": "markdown",
   "metadata": {},
   "source": [
    "goal: make functions for get  \n",
    "- 1st of the month cost per share for a given time period\n",
    "- quarterly dividend amt per share for a given time period\n",
    "- calculate the average dividend \n",
    "- calculate the average monthly cost per share"
   ]
  },
  {
   "cell_type": "code",
   "execution_count": 357,
   "metadata": {},
   "outputs": [],
   "source": [
    "portfolio = pd.DataFrame({\n",
    "    'ticker':['FXAIX','FSSNX','FSPSX','VDADX','FXNAX','VGAVX','FSRNX'],\n",
    "    'quantity':[16.81,18.957,11.455,76.756,12.256,197.257,18.878],\n",
    "    'category':['stock','stock','stock','bond','bond','bond','real estate'],\n",
    "    'future_percents':[30,25,25,5,5,5,5]\n",
    "})\n",
    "# monthly amount to invest total\n",
    "monthly_investments = 30\n",
    "# Number of years plan to invest\n",
    "years_to_invest = 30"
   ]
  },
  {
   "cell_type": "code",
   "execution_count": 358,
   "metadata": {},
   "outputs": [],
   "source": [
    "# calculate the year the individual started investing\n",
    "today = date.today()\n",
    "month = today.month\n",
    "year = today.year"
   ]
  },
  {
   "cell_type": "code",
   "execution_count": 359,
   "metadata": {},
   "outputs": [],
   "source": [
    "# Function to connect to yahoo finance and cache the information we get\n",
    "@functools.cache\n",
    "def connectYahooFinance (ticker):\n",
    "    ticker_data = yf.Ticker(ticker)\n",
    "    ticker_data = pd.DataFrame(ticker_data.history(period = 'max'))\n",
    "    ticker_data.reset_index(inplace = True)\n",
    "    return ticker_data"
   ]
  },
  {
   "cell_type": "code",
   "execution_count": 360,
   "metadata": {},
   "outputs": [],
   "source": [
    "# function to get historical monthly cost per share\n",
    "def MonthlyCost (ticker):\n",
    "    # first call the connect to yahoofinance function\n",
    "    ticker_data = connectYahooFinance(ticker)\n",
    "    # filter data to only include info from the first of the month\n",
    "    return ticker_data[ticker_data['Date'].dt.is_month_start]"
   ]
  },
  {
   "cell_type": "code",
   "execution_count": 361,
   "metadata": {},
   "outputs": [],
   "source": [
    "# function to get historical dividend amt per share\n",
    "def quarterlyDividends (ticker):\n",
    "    # first call the conncet to yahoofinance function\n",
    "    ticker_data = connectYahooFinance(ticker)\n",
    "    # filter data to only include info when dividends were distributed\n",
    "    return ticker_data[ticker_data['Dividends']!=0]"
   ]
  },
  {
   "cell_type": "code",
   "execution_count": 362,
   "metadata": {},
   "outputs": [],
   "source": [
    "# function to calcuate the average dividends for each ticker\n",
    "def CalculateAvgDividend(ticker, years_to_invest):\n",
    "    # get the historical dividends\n",
    "    dividends = pd.DataFrame(quarterlyDividends(ticker))\n",
    "    # find the first year the stock existed\n",
    "    first_year = dividends.iloc[0]\n",
    "    first_year = first_year['Date'].year\n",
    "    # determine which came first, the timespan the user plans to invest or the first year the fund existed, then determine the date of that \n",
    "    years_invest = year-min(year-first_year, years_to_invest)\n",
    "    years_invest = f'{years_invest}-01-01'\n",
    "    # get all of the dividends since that date\n",
    "    dividends = dividends[(dividends['Date']> years_invest)]\n",
    "    # find the average of those dividends\n",
    "    average_dividend = dividends['Dividends'].mean()\n",
    "    return average_dividend"
   ]
  },
  {
   "cell_type": "code",
   "execution_count": 363,
   "metadata": {},
   "outputs": [],
   "source": [
    "# function to calc avg cost per share for each ticker\n",
    "def CalculateAvgCostPerShare(ticker, years_to_invest, monthly_cost):\n",
    "    cost_per_share = pd.DataFrame(monthly_cost)\n",
    "    # find the first year the stock existed\n",
    "    first_year = cost_per_share.iloc[0]\n",
    "    first_year = first_year['Date'].year\n",
    "    # determine which came first, the timespan the user plans to invest or the first year the fund existed, then determine the date of that \n",
    "    years_invest = year-min(year-first_year, years_to_invest)\n",
    "    years_invest = f'{years_invest}-01-01'\n",
    "    # find all of the cost per shares that have occured since that date\n",
    "    cost_per_share = cost_per_share[(cost_per_share['Date']>years_invest)]\n",
    "    # take the average of those values\n",
    "    average_cost = cost_per_share['Open'].mean()\n",
    "    return average_cost"
   ]
  },
  {
   "cell_type": "code",
   "execution_count": 364,
   "metadata": {},
   "outputs": [],
   "source": [
    "# how much is your current initial investment worth\n",
    "def calcCurrentWorth (portfolio,ticker,monthly_cost):\n",
    "    # get the data from the portfolio of the specific ticker\n",
    "    quantity = portfolio.loc[portfolio['ticker'] == ticker]['quantity']\n",
    "    # get the data of the start of each month for the data\n",
    "    cost_per_share = pd.DataFrame(monthly_cost)\n",
    "    # find the most recent value\n",
    "    cost_per_share = cost_per_share.iloc[-1:]\n",
    "    # multiply that most recent value by the quantity the user owns\n",
    "    current_value = cost_per_share['Open'].values[0]*quantity.values[0]\n",
    "    return current_value"
   ]
  },
  {
   "cell_type": "code",
   "execution_count": 365,
   "metadata": {},
   "outputs": [],
   "source": [
    "# calculate the average annual interest rate of the individual stocks\n",
    "def interestRate(ticker,years_to_invest,monthly_cost):\n",
    "    # get a dataframe of the monthly costs for the specific ticker\n",
    "    cost_per_share = pd.DataFrame(monthly_cost)\n",
    "    # make an empty list to hold our growth rates\n",
    "    GR = []\n",
    "    # find one year after the first year that the stock existed\n",
    "    first_year = cost_per_share.iloc[0]\n",
    "    first_year = first_year['Date'].year+1\n",
    "    # determine which happended first, the first year the stock existed or the number of years the user plans to invest\n",
    "    years_to_invest = min(year-first_year, years_to_invest)\n",
    "    # itereate through the number of year\n",
    "    for i in range (0,years_to_invest):\n",
    "        # find the date of one year\n",
    "        old_date =f'{year-i}-12-01'\n",
    "        old_value = cost_per_share.loc[cost_per_share['Date']==old_date]\n",
    "        m=12\n",
    "        # determine if that dataframe from the first date is empty \n",
    "        while old_value['Open'].empty:\n",
    "            # iterate through the months of the year till you find one with data\n",
    "            m = m-1\n",
    "            old_date = f'{year-i}-{m}-01'\n",
    "            old_value = cost_per_share.loc[cost_per_share['Date']==old_date]\n",
    "        # get the open value of that month        \n",
    "        old_value = old_value['Open'].values[0]\n",
    "        # find a year that is one year older than our previous year\n",
    "        j = i+1\n",
    "        older_date = f'{year-j}-m-01'\n",
    "        older_value = cost_per_share.loc[cost_per_share['Date']==older_date]\n",
    "        # determine if that dataframe is empty\n",
    "        while older_value['Open'].empty:\n",
    "            # iterate through the months of year till you find one with data\n",
    "            older_date = f'{year-j}-{m}-01'\n",
    "            older_value = cost_per_share.loc[cost_per_share['Date']==older_date]\n",
    "            m = m-1\n",
    "        # get the open value of that month\n",
    "        older_value = older_value['Open'].values[0]\n",
    "        # calculate the growth rate of that year\n",
    "        GR_i = (old_value/older_value)-1\n",
    "        # add the growth rate to our list\n",
    "        GR.append(GR_i)\n",
    "    # add all of the growth rates\n",
    "    sum_GR = sum(GR)\n",
    "    # divded that sum by the number of years\n",
    "    AAGR = sum_GR/years_to_invest\n",
    "    return AAGR"
   ]
  },
  {
   "cell_type": "code",
   "execution_count": 366,
   "metadata": {},
   "outputs": [],
   "source": [
    "# calculate current portfolio worth \n",
    "def currentPortfolioWorth(Portfolio):\n",
    "    # make an empty list for each of our tickers current values to go into\n",
    "    current_value = []\n",
    "    # iterate through all of the tickers in our portfolio\n",
    "    for ticker in Portfolio['ticker']:\n",
    "        # find the monthly cost of that ticker\n",
    "        monthly_cost = MonthlyCost(ticker)\n",
    "        # calculate the current worth of that ticker\n",
    "        ticker_value = calcCurrentWorth(Portfolio,ticker,monthly_cost)\n",
    "        # add that current worth to our list\n",
    "        current_value.append(ticker_value)\n",
    "    # sum all of the values in our list\n",
    "    portfolio_current_value = sum(current_value)\n",
    "    return portfolio_current_value"
   ]
  },
  {
   "cell_type": "code",
   "execution_count": 371,
   "metadata": {},
   "outputs": [],
   "source": [
    "# make a function to predicted the growth of the portfolio\n",
    "def totalInvestmentPrediction (Portfolio,Monthly_investments,Years_to_invest):\n",
    "    # make a dataframe to hold the results for each of the tickers\n",
    "    results = pd.DataFrame(columns = ['Month', 'Amount','Ticker'])\n",
    "    # itereate through each of the tickers and their respective percents in the portfolio\n",
    "    for ticker, percent in zip(Portfolio['ticker'], Portfolio['future_percents']):\n",
    "        monthly_cost = MonthlyCost(ticker)                                  # find the monthly cost for each ticker\n",
    "        percents = percent/100                                              # divided the percents by 100 to get them on the correct scale\n",
    "        principal = calcCurrentWorth(Portfolio,ticker,monthly_cost)         # find the current worth of the stock\n",
    "        interest = interestRate(ticker,Years_to_invest,monthly_cost)        # find the growth rate of the stock\n",
    "        compounding_period = 12                                             # assign how often the interest will compound, 12 = monthly\n",
    "        months = Years_to_invest*compounding_period                         # assign how lond the user plans to invest for\n",
    "        monthly_contribution = percents*Monthly_investments                 # assign how much the user plans to invest in this stock per month\n",
    "        dividends = CalculateAvgDividend(ticker,Years_to_invest)                            # calculate the average dividends returned\n",
    "        dividends_compounding = 3                                           # the dividends compound quarterly\n",
    "        avg_cost_per_share = CalculateAvgCostPerShare(ticker,Years_to_invest,monthly_cost)  # calculate the average cost per share of the stock\n",
    "        # add the pricipal as the month one investment\n",
    "        results =  results.append({'Month': 1, 'Amount': principal, 'Ticker':ticker}, ignore_index = True)\n",
    "        # iterate through the months the user plans to invest for\n",
    "        for i in range(2,months+1):\n",
    "            # find the worth of the previous month\n",
    "            amt = results.iloc[-1:]\n",
    "            amt = amt['Amount'].values[0]\n",
    "            # determine if it is a month that dividends are reinvested or not\n",
    "            if (i%dividends_compounding)==0:\n",
    "                    total = amt+(amt*(interest/12))+monthly_contribution+((amt/avg_cost_per_share)*dividends)\n",
    "                    results =  results.append({'Month': i, 'Amount': total, 'Ticker':ticker}, ignore_index = True)\n",
    "            else:\n",
    "                    total = amt+(amt*(interest/12))+monthly_contribution\n",
    "                    results =  results.append({'Month': i, 'Amount': total, 'Ticker':ticker}, ignore_index = True)\n",
    "    return results"
   ]
  },
  {
   "cell_type": "code",
   "execution_count": 372,
   "metadata": {},
   "outputs": [
    {
     "data": {
      "text/html": [
       "<div>\n",
       "<style scoped>\n",
       "    .dataframe tbody tr th:only-of-type {\n",
       "        vertical-align: middle;\n",
       "    }\n",
       "\n",
       "    .dataframe tbody tr th {\n",
       "        vertical-align: top;\n",
       "    }\n",
       "\n",
       "    .dataframe thead th {\n",
       "        text-align: right;\n",
       "    }\n",
       "</style>\n",
       "<table border=\"1\" class=\"dataframe\">\n",
       "  <thead>\n",
       "    <tr style=\"text-align: right;\">\n",
       "      <th></th>\n",
       "      <th>Month</th>\n",
       "      <th>Amount</th>\n",
       "      <th>Ticker</th>\n",
       "    </tr>\n",
       "  </thead>\n",
       "  <tbody>\n",
       "    <tr>\n",
       "      <th>0</th>\n",
       "      <td>1</td>\n",
       "      <td>2320.452287</td>\n",
       "      <td>FXAIX</td>\n",
       "    </tr>\n",
       "    <tr>\n",
       "      <th>1</th>\n",
       "      <td>2</td>\n",
       "      <td>2356.131767</td>\n",
       "      <td>FXAIX</td>\n",
       "    </tr>\n",
       "    <tr>\n",
       "      <th>2</th>\n",
       "      <td>3</td>\n",
       "      <td>2404.018365</td>\n",
       "      <td>FXAIX</td>\n",
       "    </tr>\n",
       "    <tr>\n",
       "      <th>3</th>\n",
       "      <td>4</td>\n",
       "      <td>2440.658648</td>\n",
       "      <td>FXAIX</td>\n",
       "    </tr>\n",
       "    <tr>\n",
       "      <th>4</th>\n",
       "      <td>5</td>\n",
       "      <td>2477.720205</td>\n",
       "      <td>FXAIX</td>\n",
       "    </tr>\n",
       "    <tr>\n",
       "      <th>...</th>\n",
       "      <td>...</td>\n",
       "      <td>...</td>\n",
       "      <td>...</td>\n",
       "    </tr>\n",
       "    <tr>\n",
       "      <th>2515</th>\n",
       "      <td>356</td>\n",
       "      <td>9337.240350</td>\n",
       "      <td>FSRNX</td>\n",
       "    </tr>\n",
       "    <tr>\n",
       "      <th>2516</th>\n",
       "      <td>357</td>\n",
       "      <td>9460.502173</td>\n",
       "      <td>FSRNX</td>\n",
       "    </tr>\n",
       "    <tr>\n",
       "      <th>2517</th>\n",
       "      <td>358</td>\n",
       "      <td>9519.702830</td>\n",
       "      <td>FSRNX</td>\n",
       "    </tr>\n",
       "    <tr>\n",
       "      <th>2518</th>\n",
       "      <td>359</td>\n",
       "      <td>9579.264559</td>\n",
       "      <td>FSRNX</td>\n",
       "    </tr>\n",
       "    <tr>\n",
       "      <th>2519</th>\n",
       "      <td>360</td>\n",
       "      <td>9705.682487</td>\n",
       "      <td>FSRNX</td>\n",
       "    </tr>\n",
       "  </tbody>\n",
       "</table>\n",
       "<p>2520 rows × 3 columns</p>\n",
       "</div>"
      ],
      "text/plain": [
       "     Month       Amount Ticker\n",
       "0        1  2320.452287  FXAIX\n",
       "1        2  2356.131767  FXAIX\n",
       "2        3  2404.018365  FXAIX\n",
       "3        4  2440.658648  FXAIX\n",
       "4        5  2477.720205  FXAIX\n",
       "...    ...          ...    ...\n",
       "2515   356  9337.240350  FSRNX\n",
       "2516   357  9460.502173  FSRNX\n",
       "2517   358  9519.702830  FSRNX\n",
       "2518   359  9579.264559  FSRNX\n",
       "2519   360  9705.682487  FSRNX\n",
       "\n",
       "[2520 rows x 3 columns]"
      ]
     },
     "execution_count": 372,
     "metadata": {},
     "output_type": "execute_result"
    }
   ],
   "source": [
    "totalInvestmentPrediction(portfolio,monthly_investments,years_to_invest)"
   ]
  },
  {
   "cell_type": "code",
   "execution_count": 373,
   "metadata": {},
   "outputs": [],
   "source": [
    "# now we need to add up all of the rows that have the same years\n",
    "def amountPeryear(Portfolio,Monthly_investments,Years_to_invest):\n",
    "    # calculate the total portfolio growth\n",
    "    total_portfolio = totalInvestmentPrediction(Portfolio,Monthly_investments,Years_to_invest)\n",
    "    #### this is where i left off\n",
    "    sum_portfolio = pd.DataFrame(columns = ['Year', 'Amount'])\n",
    "    initial_invest = currentPortfolioWorth(Portfolio)\n",
    "    sum_portfolio = sum_portfolio.append({'Year':0,'Amount':initial_invest},ignore_index=True)\n",
    "    for i in range(1,Years_to_invest+1):\n",
    "        per_year = total_portfolio[total_portfolio['Month']==i*12]['Amount'].sum()\n",
    "        sum_portfolio =  sum_portfolio.append({'Year': i, 'Amount': per_year}, ignore_index = True)\n",
    "\n",
    "    return sum_portfolio\n",
    "    "
   ]
  },
  {
   "cell_type": "code",
   "execution_count": null,
   "metadata": {},
   "outputs": [],
   "source": [
    "amountPeryear(portfolio,monthly_investments,years_to_invest)"
   ]
  },
  {
   "cell_type": "code",
   "execution_count": null,
   "metadata": {},
   "outputs": [],
   "source": [
    "# graph the total data\n",
    "total_investment = amountPeryear(portfolio,monthly_investments,years_to_invest)\n",
    "fig = go.Figure(data=go.Scatter(x=total_investment['Year'], y=total_investment['Amount'], mode='lines', marker=dict(color='green')))\n",
    "fig.show()"
   ]
  },
  {
   "cell_type": "code",
   "execution_count": null,
   "metadata": {},
   "outputs": [],
   "source": [
    "# add a column of what money we put in to the portfolio dataframe\n",
    "def compareInvestedtoGrowth(total_investment, portfolio, monthly_investment, years):\n",
    "    yearly_investment = monthly_investment*12\n",
    "    portfolio_worth = currentPortfolioWorth(portfolio)\n",
    "    money_inv = []\n",
    "    money_inv.insert(0,portfolio_worth)\n",
    "    money_inv.insert(1,portfolio_worth+yearly_investment)\n",
    "    for i in range(2,years+1):\n",
    "        last_year_amt = money_inv[i-1]\n",
    "        this_year_amt = last_year_amt + yearly_investment\n",
    "        money_inv.insert(i,this_year_amt)\n",
    "    total_investment.insert(2,'Money_Invested',money_inv,True)\n",
    "    return total_investment\n",
    "\n",
    "compareInvestedtoGrowth(total_investment,portfolio,monthly_investments,years_to_invest)"
   ]
  },
  {
   "cell_type": "code",
   "execution_count": null,
   "metadata": {},
   "outputs": [],
   "source": []
  }
 ],
 "metadata": {
  "kernelspec": {
   "display_name": "Python 3.10.1 64-bit",
   "language": "python",
   "name": "python3"
  },
  "language_info": {
   "codemirror_mode": {
    "name": "ipython",
    "version": 3
   },
   "file_extension": ".py",
   "mimetype": "text/x-python",
   "name": "python",
   "nbconvert_exporter": "python",
   "pygments_lexer": "ipython3",
   "version": "3.10.1"
  },
  "orig_nbformat": 4,
  "vscode": {
   "interpreter": {
    "hash": "d404347084406b8c6d005244449b7dd5f725b5df89987d39dd27b81ada4d10f3"
   }
  }
 },
 "nbformat": 4,
 "nbformat_minor": 2
}
